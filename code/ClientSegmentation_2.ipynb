{
  "cells": [
    {
      "attachments": {},
      "cell_type": "markdown",
      "metadata": {
        "colab_type": "text",
        "id": "view-in-github"
      },
      "source": [
        "<a href=\"https://colab.research.google.com/github/LucasParreirasDS/Projects/blob/main/ClientSegmentation_2.ipynb\" target=\"_parent\"><img src=\"https://colab.research.google.com/assets/colab-badge.svg\" alt=\"Open In Colab\"/></a>"
      ]
    },
    {
      "attachments": {},
      "cell_type": "markdown",
      "metadata": {
        "id": "vZ9ROi63hr-V"
      },
      "source": [
        "# Project UK Merch \n",
        "The objective of this project is to solve a problem for an young company which is dedicated to the clothing wholesale and we need to sementate their client based on database we downloaded.\n",
        "\n"
      ]
    },
    {
      "attachments": {},
      "cell_type": "markdown",
      "metadata": {
        "id": "Hj1ar0zBKI_U"
      },
      "source": [
        "## Importing libraries"
      ]
    },
    {
      "cell_type": "code",
      "execution_count": 1,
      "metadata": {
        "id": "KeRaoWgYegmf"
      },
      "outputs": [],
      "source": [
        "import pandas as pd\n",
        "import numpy as np\n",
        "import seaborn as sns\n",
        "import matplotlib.pyplot as plt\n",
        "\n",
        "\n",
        "from datetime import datetime as dt\n",
        "from datetime import timedelta as td\n",
        "\n",
        "from sklearn.cluster import KMeans\n",
        "from sklearn.preprocessing import StandardScaler\n",
        "\n",
        "\n",
        "pd.set_option('display.float_format', lambda x: '%.2f' % x)"
      ]
    },
    {
      "attachments": {},
      "cell_type": "markdown",
      "metadata": {
        "id": "65i9mtijKOCh"
      },
      "source": [
        "## Loading dataset"
      ]
    },
    {
      "cell_type": "code",
      "execution_count": 2,
      "metadata": {
        "colab": {
          "base_uri": "https://localhost:8080/"
        },
        "id": "fznLRNS0KQlb",
        "outputId": "c6a90987-7e48-42d9-f492-58618c0c0d84"
      },
      "outputs": [
        {
          "data": {
            "text/plain": [
              "(25953, 6)"
            ]
          },
          "execution_count": 2,
          "metadata": {},
          "output_type": "execute_result"
        }
      ],
      "source": [
        "df_original = pd.read_csv('data/raw/vendas-por-fatura.csv')\n",
        "df_original.shape"
      ]
    },
    {
      "cell_type": "code",
      "execution_count": 3,
      "metadata": {
        "colab": {
          "base_uri": "https://localhost:8080/",
          "height": 206
        },
        "id": "N82n9gNCK3QO",
        "outputId": "a0051bc5-518a-4eee-d1b1-27408f13bde0"
      },
      "outputs": [
        {
          "data": {
            "text/html": [
              "<div>\n",
              "<style scoped>\n",
              "    .dataframe tbody tr th:only-of-type {\n",
              "        vertical-align: middle;\n",
              "    }\n",
              "\n",
              "    .dataframe tbody tr th {\n",
              "        vertical-align: top;\n",
              "    }\n",
              "\n",
              "    .dataframe thead th {\n",
              "        text-align: right;\n",
              "    }\n",
              "</style>\n",
              "<table border=\"1\" class=\"dataframe\">\n",
              "  <thead>\n",
              "    <tr style=\"text-align: right;\">\n",
              "      <th></th>\n",
              "      <th>N° da fatura</th>\n",
              "      <th>Data da fatura</th>\n",
              "      <th>ID Cliente</th>\n",
              "      <th>País</th>\n",
              "      <th>Quantidade</th>\n",
              "      <th>Valor</th>\n",
              "    </tr>\n",
              "  </thead>\n",
              "  <tbody>\n",
              "    <tr>\n",
              "      <th>0</th>\n",
              "      <td>548370</td>\n",
              "      <td>3/30/2021 16:14:00</td>\n",
              "      <td>15528.00</td>\n",
              "      <td>United Kingdom</td>\n",
              "      <td>123</td>\n",
              "      <td>229,33</td>\n",
              "    </tr>\n",
              "    <tr>\n",
              "      <th>1</th>\n",
              "      <td>575767</td>\n",
              "      <td>11/11/2021 11:11:00</td>\n",
              "      <td>17348.00</td>\n",
              "      <td>United Kingdom</td>\n",
              "      <td>163</td>\n",
              "      <td>209,73</td>\n",
              "    </tr>\n",
              "    <tr>\n",
              "      <th>2</th>\n",
              "      <td>C570727</td>\n",
              "      <td>10/12/2021 11:32:00</td>\n",
              "      <td>12471.00</td>\n",
              "      <td>Germany</td>\n",
              "      <td>-1</td>\n",
              "      <td>-1,45</td>\n",
              "    </tr>\n",
              "    <tr>\n",
              "      <th>3</th>\n",
              "      <td>549106</td>\n",
              "      <td>4/6/2021 12:08:00</td>\n",
              "      <td>17045.00</td>\n",
              "      <td>United Kingdom</td>\n",
              "      <td>1</td>\n",
              "      <td>39,95</td>\n",
              "    </tr>\n",
              "    <tr>\n",
              "      <th>4</th>\n",
              "      <td>573112</td>\n",
              "      <td>10/27/2021 15:33:00</td>\n",
              "      <td>16416.00</td>\n",
              "      <td>United Kingdom</td>\n",
              "      <td>357</td>\n",
              "      <td>344,83</td>\n",
              "    </tr>\n",
              "  </tbody>\n",
              "</table>\n",
              "</div>"
            ],
            "text/plain": [
              "  N° da fatura       Data da fatura  ID Cliente            País  Quantidade  \\\n",
              "0       548370   3/30/2021 16:14:00    15528.00  United Kingdom         123   \n",
              "1       575767  11/11/2021 11:11:00    17348.00  United Kingdom         163   \n",
              "2      C570727  10/12/2021 11:32:00    12471.00         Germany          -1   \n",
              "3       549106    4/6/2021 12:08:00    17045.00  United Kingdom           1   \n",
              "4       573112  10/27/2021 15:33:00    16416.00  United Kingdom         357   \n",
              "\n",
              "    Valor  \n",
              "0  229,33  \n",
              "1  209,73  \n",
              "2   -1,45  \n",
              "3   39,95  \n",
              "4  344,83  "
            ]
          },
          "execution_count": 3,
          "metadata": {},
          "output_type": "execute_result"
        }
      ],
      "source": [
        "df_original.head()"
      ]
    },
    {
      "cell_type": "code",
      "execution_count": 4,
      "metadata": {
        "id": "RTR_Yeff69zV"
      },
      "outputs": [],
      "source": [
        "df = df_original.copy()"
      ]
    },
    {
      "cell_type": "code",
      "execution_count": 5,
      "metadata": {
        "colab": {
          "base_uri": "https://localhost:8080/",
          "height": 206
        },
        "id": "FmUFQp7lf1wW",
        "outputId": "702fe1bf-0b11-4c73-f7b7-25039607d39a"
      },
      "outputs": [
        {
          "data": {
            "text/html": [
              "<div>\n",
              "<style scoped>\n",
              "    .dataframe tbody tr th:only-of-type {\n",
              "        vertical-align: middle;\n",
              "    }\n",
              "\n",
              "    .dataframe tbody tr th {\n",
              "        vertical-align: top;\n",
              "    }\n",
              "\n",
              "    .dataframe thead th {\n",
              "        text-align: right;\n",
              "    }\n",
              "</style>\n",
              "<table border=\"1\" class=\"dataframe\">\n",
              "  <thead>\n",
              "    <tr style=\"text-align: right;\">\n",
              "      <th></th>\n",
              "      <th>id_transaction</th>\n",
              "      <th>date</th>\n",
              "      <th>id_client</th>\n",
              "      <th>country</th>\n",
              "      <th>products</th>\n",
              "      <th>monetary</th>\n",
              "    </tr>\n",
              "  </thead>\n",
              "  <tbody>\n",
              "    <tr>\n",
              "      <th>0</th>\n",
              "      <td>548370</td>\n",
              "      <td>3/30/2021 16:14:00</td>\n",
              "      <td>15528.00</td>\n",
              "      <td>United Kingdom</td>\n",
              "      <td>123</td>\n",
              "      <td>229,33</td>\n",
              "    </tr>\n",
              "    <tr>\n",
              "      <th>1</th>\n",
              "      <td>575767</td>\n",
              "      <td>11/11/2021 11:11:00</td>\n",
              "      <td>17348.00</td>\n",
              "      <td>United Kingdom</td>\n",
              "      <td>163</td>\n",
              "      <td>209,73</td>\n",
              "    </tr>\n",
              "    <tr>\n",
              "      <th>2</th>\n",
              "      <td>C570727</td>\n",
              "      <td>10/12/2021 11:32:00</td>\n",
              "      <td>12471.00</td>\n",
              "      <td>Germany</td>\n",
              "      <td>-1</td>\n",
              "      <td>-1,45</td>\n",
              "    </tr>\n",
              "    <tr>\n",
              "      <th>3</th>\n",
              "      <td>549106</td>\n",
              "      <td>4/6/2021 12:08:00</td>\n",
              "      <td>17045.00</td>\n",
              "      <td>United Kingdom</td>\n",
              "      <td>1</td>\n",
              "      <td>39,95</td>\n",
              "    </tr>\n",
              "    <tr>\n",
              "      <th>4</th>\n",
              "      <td>573112</td>\n",
              "      <td>10/27/2021 15:33:00</td>\n",
              "      <td>16416.00</td>\n",
              "      <td>United Kingdom</td>\n",
              "      <td>357</td>\n",
              "      <td>344,83</td>\n",
              "    </tr>\n",
              "  </tbody>\n",
              "</table>\n",
              "</div>"
            ],
            "text/plain": [
              "  id_transaction                 date  id_client         country  products  \\\n",
              "0         548370   3/30/2021 16:14:00   15528.00  United Kingdom       123   \n",
              "1         575767  11/11/2021 11:11:00   17348.00  United Kingdom       163   \n",
              "2        C570727  10/12/2021 11:32:00   12471.00         Germany        -1   \n",
              "3         549106    4/6/2021 12:08:00   17045.00  United Kingdom         1   \n",
              "4         573112  10/27/2021 15:33:00   16416.00  United Kingdom       357   \n",
              "\n",
              "  monetary  \n",
              "0   229,33  \n",
              "1   209,73  \n",
              "2    -1,45  \n",
              "3    39,95  \n",
              "4   344,83  "
            ]
          },
          "execution_count": 5,
          "metadata": {},
          "output_type": "execute_result"
        }
      ],
      "source": [
        "df.columns = ['id_transaction', 'date', 'id_client', 'country', 'products', 'monetary']\n",
        "df.head(5)"
      ]
    },
    {
      "attachments": {},
      "cell_type": "markdown",
      "metadata": {
        "id": "ftWnfCQ1ftTC"
      },
      "source": [
        "### Dictionary\n",
        "- id_transaction - Unique Id for each transaction. If it starts with an I it's a replacement transaction\n",
        "- date - Date and time of transaction\n",
        "- id_client - Unique Id for clients\n",
        "- country - Country where the client lives\n",
        "- products - The number of products. If it is negative it's a replacement transaction\n",
        "- value - The total of the transaction in sterling pounds\n",
        "\n",
        "### Data Overview"
      ]
    },
    {
      "cell_type": "code",
      "execution_count": 6,
      "metadata": {
        "colab": {
          "base_uri": "https://localhost:8080/"
        },
        "id": "b7WZbBi4izlT",
        "outputId": "7c42b0e5-707f-4d98-dd98-58fac0c5b3ea"
      },
      "outputs": [
        {
          "data": {
            "text/plain": [
              "id_transaction       0\n",
              "date                 0\n",
              "id_client         3724\n",
              "country              0\n",
              "products             0\n",
              "monetary             0\n",
              "dtype: int64"
            ]
          },
          "execution_count": 6,
          "metadata": {},
          "output_type": "execute_result"
        }
      ],
      "source": [
        "df.isnull().sum()"
      ]
    },
    {
      "cell_type": "code",
      "execution_count": 7,
      "metadata": {
        "colab": {
          "base_uri": "https://localhost:8080/"
        },
        "id": "7UquZ7qlfWMj",
        "outputId": "95b3fd28-1342-465f-d07b-03ae133918b8"
      },
      "outputs": [
        {
          "name": "stdout",
          "output_type": "stream",
          "text": [
            "<class 'pandas.core.frame.DataFrame'>\n",
            "RangeIndex: 25953 entries, 0 to 25952\n",
            "Data columns (total 6 columns):\n",
            " #   Column          Non-Null Count  Dtype  \n",
            "---  ------          --------------  -----  \n",
            " 0   id_transaction  25953 non-null  object \n",
            " 1   date            25953 non-null  object \n",
            " 2   id_client       22229 non-null  float64\n",
            " 3   country         25953 non-null  object \n",
            " 4   products        25953 non-null  int64  \n",
            " 5   monetary        25953 non-null  object \n",
            "dtypes: float64(1), int64(1), object(4)\n",
            "memory usage: 1.2+ MB\n"
          ]
        }
      ],
      "source": [
        "df.info()"
      ]
    },
    {
      "attachments": {},
      "cell_type": "markdown",
      "metadata": {
        "id": "inxajMDkjoFc"
      },
      "source": [
        "\n",
        "- 'id_client' should be string\n",
        "- 'date' should be datetime and we dont need time\n",
        "- 'value' is separating decimals with a comma, so it's as string. We're going to fix it and transform to float.\n",
        "\n"
      ]
    },
    {
      "attachments": {},
      "cell_type": "markdown",
      "metadata": {
        "id": "m4zhcNnxm4qW"
      },
      "source": [
        "The Client Id is a crucial information for reaching the objective of the project and it's impossible to discover what it should be based on the other columns. <br> \n",
        "Beacuse of this, we're going transform id_client to string and sinalize the ones that were null with 'Unknown'"
      ]
    },
    {
      "cell_type": "code",
      "execution_count": 8,
      "metadata": {
        "id": "Ky6IFUsNnpoS"
      },
      "outputs": [],
      "source": [
        "df = df.dropna().reset_index(drop=True)"
      ]
    },
    {
      "attachments": {},
      "cell_type": "markdown",
      "metadata": {
        "id": "UDJl429xnvGc"
      },
      "source": [
        "### Transforming data to analysis"
      ]
    },
    {
      "cell_type": "code",
      "execution_count": 9,
      "metadata": {
        "id": "PssDVb3AjBUf"
      },
      "outputs": [],
      "source": [
        "df['id_client'] = df['id_client'].apply(lambda x: str(int(x))) # client id to string"
      ]
    },
    {
      "cell_type": "code",
      "execution_count": 10,
      "metadata": {
        "id": "P_sK8jIxpsq9"
      },
      "outputs": [],
      "source": [
        "df['date'] = df['date'].apply(lambda x: dt.strptime(x.split(' ')[0], '%m/%d/%Y')) # date to datetime"
      ]
    },
    {
      "cell_type": "code",
      "execution_count": 11,
      "metadata": {
        "id": "Ei7Qq475qZbf"
      },
      "outputs": [],
      "source": [
        "df['monetary'] = df['monetary'].apply(lambda x: float(x.replace(',', '.'))) # replacing ',' for '.' and converting to float"
      ]
    },
    {
      "cell_type": "code",
      "execution_count": 12,
      "metadata": {
        "colab": {
          "base_uri": "https://localhost:8080/"
        },
        "id": "HoJCOIp0ruHF",
        "outputId": "d730af05-e238-4a22-d927-e296e8608b80"
      },
      "outputs": [
        {
          "name": "stdout",
          "output_type": "stream",
          "text": [
            "<class 'pandas.core.frame.DataFrame'>\n",
            "RangeIndex: 22229 entries, 0 to 22228\n",
            "Data columns (total 6 columns):\n",
            " #   Column          Non-Null Count  Dtype         \n",
            "---  ------          --------------  -----         \n",
            " 0   id_transaction  22229 non-null  object        \n",
            " 1   date            22229 non-null  datetime64[ns]\n",
            " 2   id_client       22229 non-null  object        \n",
            " 3   country         22229 non-null  object        \n",
            " 4   products        22229 non-null  int64         \n",
            " 5   monetary        22229 non-null  float64       \n",
            "dtypes: datetime64[ns](1), float64(1), int64(1), object(3)\n",
            "memory usage: 1.0+ MB\n"
          ]
        }
      ],
      "source": [
        "df.info()"
      ]
    },
    {
      "cell_type": "code",
      "execution_count": 13,
      "metadata": {
        "colab": {
          "base_uri": "https://localhost:8080/",
          "height": 300
        },
        "id": "wFNnOVQNyOZQ",
        "outputId": "a6f0c88e-d898-4701-a9bf-ca236520e13f"
      },
      "outputs": [
        {
          "data": {
            "text/html": [
              "<div>\n",
              "<style scoped>\n",
              "    .dataframe tbody tr th:only-of-type {\n",
              "        vertical-align: middle;\n",
              "    }\n",
              "\n",
              "    .dataframe tbody tr th {\n",
              "        vertical-align: top;\n",
              "    }\n",
              "\n",
              "    .dataframe thead th {\n",
              "        text-align: right;\n",
              "    }\n",
              "</style>\n",
              "<table border=\"1\" class=\"dataframe\">\n",
              "  <thead>\n",
              "    <tr style=\"text-align: right;\">\n",
              "      <th></th>\n",
              "      <th>id_transaction</th>\n",
              "      <th>date</th>\n",
              "      <th>id_client</th>\n",
              "      <th>country</th>\n",
              "      <th>products</th>\n",
              "      <th>monetary</th>\n",
              "    </tr>\n",
              "  </thead>\n",
              "  <tbody>\n",
              "    <tr>\n",
              "      <th>8340</th>\n",
              "      <td>C581390</td>\n",
              "      <td>2021-12-08</td>\n",
              "      <td>13081</td>\n",
              "      <td>United Kingdom</td>\n",
              "      <td>-13</td>\n",
              "      <td>-15.85</td>\n",
              "    </tr>\n",
              "    <tr>\n",
              "      <th>9662</th>\n",
              "      <td>568417</td>\n",
              "      <td>2021-09-27</td>\n",
              "      <td>14911</td>\n",
              "      <td>EIRE</td>\n",
              "      <td>202</td>\n",
              "      <td>776.30</td>\n",
              "    </tr>\n",
              "    <tr>\n",
              "      <th>10774</th>\n",
              "      <td>C581384</td>\n",
              "      <td>2021-12-08</td>\n",
              "      <td>17673</td>\n",
              "      <td>United Kingdom</td>\n",
              "      <td>-2</td>\n",
              "      <td>-6.90</td>\n",
              "    </tr>\n",
              "    <tr>\n",
              "      <th>11198</th>\n",
              "      <td>568423</td>\n",
              "      <td>2021-09-27</td>\n",
              "      <td>17061</td>\n",
              "      <td>United Kingdom</td>\n",
              "      <td>118</td>\n",
              "      <td>573.40</td>\n",
              "    </tr>\n",
              "    <tr>\n",
              "      <th>11235</th>\n",
              "      <td>568387</td>\n",
              "      <td>2021-09-27</td>\n",
              "      <td>13704</td>\n",
              "      <td>United Kingdom</td>\n",
              "      <td>340</td>\n",
              "      <td>422.32</td>\n",
              "    </tr>\n",
              "    <tr>\n",
              "      <th>13636</th>\n",
              "      <td>568384</td>\n",
              "      <td>2021-09-27</td>\n",
              "      <td>12748</td>\n",
              "      <td>United Kingdom</td>\n",
              "      <td>1</td>\n",
              "      <td>0.00</td>\n",
              "    </tr>\n",
              "    <tr>\n",
              "      <th>16159</th>\n",
              "      <td>C581323</td>\n",
              "      <td>2021-12-08</td>\n",
              "      <td>14442</td>\n",
              "      <td>Channel Islands</td>\n",
              "      <td>-1</td>\n",
              "      <td>-4.25</td>\n",
              "    </tr>\n",
              "    <tr>\n",
              "      <th>19346</th>\n",
              "      <td>C581330</td>\n",
              "      <td>2021-12-08</td>\n",
              "      <td>15877</td>\n",
              "      <td>United Kingdom</td>\n",
              "      <td>-125</td>\n",
              "      <td>-52.50</td>\n",
              "    </tr>\n",
              "  </tbody>\n",
              "</table>\n",
              "</div>"
            ],
            "text/plain": [
              "      id_transaction       date id_client          country  products  monetary\n",
              "8340         C581390 2021-12-08     13081   United Kingdom       -13    -15.85\n",
              "9662          568417 2021-09-27     14911             EIRE       202    776.30\n",
              "10774        C581384 2021-12-08     17673   United Kingdom        -2     -6.90\n",
              "11198         568423 2021-09-27     17061   United Kingdom       118    573.40\n",
              "11235         568387 2021-09-27     13704   United Kingdom       340    422.32\n",
              "13636         568384 2021-09-27     12748   United Kingdom         1      0.00\n",
              "16159        C581323 2021-12-08     14442  Channel Islands        -1     -4.25\n",
              "19346        C581330 2021-12-08     15877   United Kingdom      -125    -52.50"
            ]
          },
          "execution_count": 13,
          "metadata": {},
          "output_type": "execute_result"
        }
      ],
      "source": [
        "df[df.duplicated()]"
      ]
    },
    {
      "cell_type": "code",
      "execution_count": 14,
      "metadata": {
        "colab": {
          "base_uri": "https://localhost:8080/",
          "height": 112
        },
        "id": "jn6wnTyjygX5",
        "outputId": "ce4c795a-c9d6-4550-b7d6-700009bd9042"
      },
      "outputs": [
        {
          "data": {
            "text/html": [
              "<div>\n",
              "<style scoped>\n",
              "    .dataframe tbody tr th:only-of-type {\n",
              "        vertical-align: middle;\n",
              "    }\n",
              "\n",
              "    .dataframe tbody tr th {\n",
              "        vertical-align: top;\n",
              "    }\n",
              "\n",
              "    .dataframe thead th {\n",
              "        text-align: right;\n",
              "    }\n",
              "</style>\n",
              "<table border=\"1\" class=\"dataframe\">\n",
              "  <thead>\n",
              "    <tr style=\"text-align: right;\">\n",
              "      <th></th>\n",
              "      <th>id_transaction</th>\n",
              "      <th>date</th>\n",
              "      <th>id_client</th>\n",
              "      <th>country</th>\n",
              "      <th>products</th>\n",
              "      <th>monetary</th>\n",
              "    </tr>\n",
              "  </thead>\n",
              "  <tbody>\n",
              "    <tr>\n",
              "      <th>1754</th>\n",
              "      <td>568423</td>\n",
              "      <td>2021-09-27</td>\n",
              "      <td>17061</td>\n",
              "      <td>United Kingdom</td>\n",
              "      <td>118</td>\n",
              "      <td>573.40</td>\n",
              "    </tr>\n",
              "    <tr>\n",
              "      <th>11198</th>\n",
              "      <td>568423</td>\n",
              "      <td>2021-09-27</td>\n",
              "      <td>17061</td>\n",
              "      <td>United Kingdom</td>\n",
              "      <td>118</td>\n",
              "      <td>573.40</td>\n",
              "    </tr>\n",
              "  </tbody>\n",
              "</table>\n",
              "</div>"
            ],
            "text/plain": [
              "      id_transaction       date id_client         country  products  monetary\n",
              "1754          568423 2021-09-27     17061  United Kingdom       118    573.40\n",
              "11198         568423 2021-09-27     17061  United Kingdom       118    573.40"
            ]
          },
          "execution_count": 14,
          "metadata": {},
          "output_type": "execute_result"
        }
      ],
      "source": [
        "df[df.id_transaction == '568423']"
      ]
    },
    {
      "cell_type": "code",
      "execution_count": 15,
      "metadata": {
        "colab": {
          "base_uri": "https://localhost:8080/"
        },
        "id": "68GvY1pSyr1R",
        "outputId": "bf60be14-f834-413a-947f-18d177ea9bae"
      },
      "outputs": [
        {
          "data": {
            "text/plain": [
              "(22221, 6)"
            ]
          },
          "execution_count": 15,
          "metadata": {},
          "output_type": "execute_result"
        }
      ],
      "source": [
        "df = df.drop_duplicates(keep='first')\n",
        "df.shape"
      ]
    },
    {
      "attachments": {},
      "cell_type": "markdown",
      "metadata": {
        "id": "5CD_Ne6B9R0V"
      },
      "source": [
        "## Feature Engineering"
      ]
    },
    {
      "attachments": {},
      "cell_type": "markdown",
      "metadata": {
        "id": "4B26NEsH_QVe"
      },
      "source": [
        "We're going to segment customers using the RFM Method. It consists in scoring each customer for:\n",
        " - Recency (last time made an transaction)\n",
        " - Frequency (how many transaction did the customer made since his first one)\n",
        " - Monetary (how much  did he spent sice first transaction)"
      ]
    },
    {
      "attachments": {},
      "cell_type": "markdown",
      "metadata": {
        "id": "7UcfoasV9hmq"
      },
      "source": [
        "Getting information about clients.\n",
        "- When was the first transaction for each customer?\n",
        "- When was the last?\n",
        "- For how many days the customer was a member?\n",
        "- How many transactions in this time?\n",
        "- How much did he spent?"
      ]
    },
    {
      "cell_type": "code",
      "execution_count": null,
      "metadata": {
        "id": "va5yVJxgxe1t"
      },
      "outputs": [],
      "source": []
    },
    {
      "cell_type": "code",
      "execution_count": null,
      "metadata": {
        "id": "LPGSeQq-xeze"
      },
      "outputs": [],
      "source": []
    },
    {
      "cell_type": "code",
      "execution_count": null,
      "metadata": {
        "id": "wJ7KOxJnxe3w"
      },
      "outputs": [],
      "source": []
    },
    {
      "cell_type": "code",
      "execution_count": 16,
      "metadata": {
        "id": "Yo_pwnn3xe8h"
      },
      "outputs": [],
      "source": [
        "df = df[~(df['monetary'] < 0)].reset_index(drop=True)"
      ]
    },
    {
      "cell_type": "code",
      "execution_count": null,
      "metadata": {
        "id": "47Sx6E8BxexJ"
      },
      "outputs": [],
      "source": []
    },
    {
      "cell_type": "code",
      "execution_count": null,
      "metadata": {
        "id": "xwSx7nvfxeup"
      },
      "outputs": [],
      "source": []
    },
    {
      "cell_type": "code",
      "execution_count": null,
      "metadata": {
        "id": "ymzxMmfHxekG"
      },
      "outputs": [],
      "source": []
    },
    {
      "cell_type": "code",
      "execution_count": 17,
      "metadata": {
        "colab": {
          "base_uri": "https://localhost:8080/",
          "height": 206
        },
        "id": "16mS50KC9Tb-",
        "outputId": "3434530f-0e6e-4dbb-b625-6f6e56b336cf"
      },
      "outputs": [
        {
          "data": {
            "text/html": [
              "<div>\n",
              "<style scoped>\n",
              "    .dataframe tbody tr th:only-of-type {\n",
              "        vertical-align: middle;\n",
              "    }\n",
              "\n",
              "    .dataframe tbody tr th {\n",
              "        vertical-align: top;\n",
              "    }\n",
              "\n",
              "    .dataframe thead th {\n",
              "        text-align: right;\n",
              "    }\n",
              "</style>\n",
              "<table border=\"1\" class=\"dataframe\">\n",
              "  <thead>\n",
              "    <tr style=\"text-align: right;\">\n",
              "      <th></th>\n",
              "      <th>id_transaction</th>\n",
              "      <th>date</th>\n",
              "      <th>id_client</th>\n",
              "      <th>country</th>\n",
              "      <th>products</th>\n",
              "      <th>monetary</th>\n",
              "    </tr>\n",
              "  </thead>\n",
              "  <tbody>\n",
              "    <tr>\n",
              "      <th>0</th>\n",
              "      <td>548370</td>\n",
              "      <td>2021-03-30</td>\n",
              "      <td>15528</td>\n",
              "      <td>United Kingdom</td>\n",
              "      <td>123</td>\n",
              "      <td>229.33</td>\n",
              "    </tr>\n",
              "    <tr>\n",
              "      <th>1</th>\n",
              "      <td>575767</td>\n",
              "      <td>2021-11-11</td>\n",
              "      <td>17348</td>\n",
              "      <td>United Kingdom</td>\n",
              "      <td>163</td>\n",
              "      <td>209.73</td>\n",
              "    </tr>\n",
              "    <tr>\n",
              "      <th>2</th>\n",
              "      <td>549106</td>\n",
              "      <td>2021-04-06</td>\n",
              "      <td>17045</td>\n",
              "      <td>United Kingdom</td>\n",
              "      <td>1</td>\n",
              "      <td>39.95</td>\n",
              "    </tr>\n",
              "    <tr>\n",
              "      <th>3</th>\n",
              "      <td>573112</td>\n",
              "      <td>2021-10-27</td>\n",
              "      <td>16416</td>\n",
              "      <td>United Kingdom</td>\n",
              "      <td>357</td>\n",
              "      <td>344.83</td>\n",
              "    </tr>\n",
              "    <tr>\n",
              "      <th>4</th>\n",
              "      <td>576630</td>\n",
              "      <td>2021-11-16</td>\n",
              "      <td>13816</td>\n",
              "      <td>Germany</td>\n",
              "      <td>91</td>\n",
              "      <td>199.98</td>\n",
              "    </tr>\n",
              "  </tbody>\n",
              "</table>\n",
              "</div>"
            ],
            "text/plain": [
              "  id_transaction       date id_client         country  products  monetary\n",
              "0         548370 2021-03-30     15528  United Kingdom       123    229.33\n",
              "1         575767 2021-11-11     17348  United Kingdom       163    209.73\n",
              "2         549106 2021-04-06     17045  United Kingdom         1     39.95\n",
              "3         573112 2021-10-27     16416  United Kingdom       357    344.83\n",
              "4         576630 2021-11-16     13816         Germany        91    199.98"
            ]
          },
          "execution_count": 17,
          "metadata": {},
          "output_type": "execute_result"
        }
      ],
      "source": [
        "df.head()"
      ]
    },
    {
      "cell_type": "code",
      "execution_count": 18,
      "metadata": {
        "colab": {
          "base_uri": "https://localhost:8080/",
          "height": 363
        },
        "id": "mkN3WpQh9atb",
        "outputId": "a7211be7-e8d4-40de-9fa0-4deb587e9576"
      },
      "outputs": [
        {
          "data": {
            "text/html": [
              "<div>\n",
              "<style scoped>\n",
              "    .dataframe tbody tr th:only-of-type {\n",
              "        vertical-align: middle;\n",
              "    }\n",
              "\n",
              "    .dataframe tbody tr th {\n",
              "        vertical-align: top;\n",
              "    }\n",
              "\n",
              "    .dataframe thead th {\n",
              "        text-align: right;\n",
              "    }\n",
              "</style>\n",
              "<table border=\"1\" class=\"dataframe\">\n",
              "  <thead>\n",
              "    <tr style=\"text-align: right;\">\n",
              "      <th></th>\n",
              "      <th>id_client</th>\n",
              "      <th>date</th>\n",
              "    </tr>\n",
              "  </thead>\n",
              "  <tbody>\n",
              "    <tr>\n",
              "      <th>0</th>\n",
              "      <td>12346</td>\n",
              "      <td>2021-01-18</td>\n",
              "    </tr>\n",
              "    <tr>\n",
              "      <th>1</th>\n",
              "      <td>12347</td>\n",
              "      <td>2020-12-07</td>\n",
              "    </tr>\n",
              "    <tr>\n",
              "      <th>2</th>\n",
              "      <td>12347</td>\n",
              "      <td>2021-01-26</td>\n",
              "    </tr>\n",
              "    <tr>\n",
              "      <th>3</th>\n",
              "      <td>12347</td>\n",
              "      <td>2021-04-07</td>\n",
              "    </tr>\n",
              "    <tr>\n",
              "      <th>4</th>\n",
              "      <td>12347</td>\n",
              "      <td>2021-06-09</td>\n",
              "    </tr>\n",
              "    <tr>\n",
              "      <th>5</th>\n",
              "      <td>12347</td>\n",
              "      <td>2021-08-02</td>\n",
              "    </tr>\n",
              "    <tr>\n",
              "      <th>6</th>\n",
              "      <td>12347</td>\n",
              "      <td>2021-10-31</td>\n",
              "    </tr>\n",
              "    <tr>\n",
              "      <th>7</th>\n",
              "      <td>12347</td>\n",
              "      <td>2021-12-07</td>\n",
              "    </tr>\n",
              "    <tr>\n",
              "      <th>8</th>\n",
              "      <td>12348</td>\n",
              "      <td>2020-12-16</td>\n",
              "    </tr>\n",
              "    <tr>\n",
              "      <th>9</th>\n",
              "      <td>12348</td>\n",
              "      <td>2021-01-25</td>\n",
              "    </tr>\n",
              "  </tbody>\n",
              "</table>\n",
              "</div>"
            ],
            "text/plain": [
              "  id_client       date\n",
              "0     12346 2021-01-18\n",
              "1     12347 2020-12-07\n",
              "2     12347 2021-01-26\n",
              "3     12347 2021-04-07\n",
              "4     12347 2021-06-09\n",
              "5     12347 2021-08-02\n",
              "6     12347 2021-10-31\n",
              "7     12347 2021-12-07\n",
              "8     12348 2020-12-16\n",
              "9     12348 2021-01-25"
            ]
          },
          "execution_count": 18,
          "metadata": {},
          "output_type": "execute_result"
        }
      ],
      "source": [
        "# Sorting the data by client id and date\n",
        "data_date = df[['id_client', 'date']].sort_values(['id_client', 'date']).reset_index(drop=True)  \n",
        "data_date.head(10)"
      ]
    },
    {
      "attachments": {},
      "cell_type": "markdown",
      "metadata": {
        "id": "vBdqRdogBEZd"
      },
      "source": [
        "Now that we have a dataframe ordered  by client id and date, we can iterate through it rows to discover first date, last date and count how many transactions. "
      ]
    },
    {
      "cell_type": "code",
      "execution_count": 19,
      "metadata": {
        "id": "MXHczAdO-AI9"
      },
      "outputs": [],
      "source": [
        "count = 1 # starting the count\n",
        "client_date = {} # creating a dict to store client data about dates\n",
        "first_day = data_date['date'][0]\n",
        "last_day = data_date['date'][0]\n",
        "for idx, row in data_date.iterrows():\n",
        "  if idx != len(data_date)-1:\n",
        "    if row['id_client'] == data_date['id_client'][idx+1]:\n",
        "      count += 1                                                       # (How many transactions in this time?)\n",
        "      last_day = data_date['date'][idx+1]                              # (When was the last?)\n",
        "    else:\n",
        "      client_date[row['id_client']] = [first_day, last_day, count]\n",
        "      count = 1\n",
        "      first_day = data_date['date'][idx+1]                             # (When was the first transaction for each customer?)\n",
        "      last_day = data_date['date'][idx+1]\n",
        "  else:\n",
        "      client_date[row['id_client']] = [first_day, last_day, count]\n",
        "\n"
      ]
    },
    {
      "cell_type": "code",
      "execution_count": 20,
      "metadata": {
        "id": "7MczJ0FN-TGs"
      },
      "outputs": [],
      "source": [
        "# Creating the dataframe for informations about date\n",
        "df_client = pd.DataFrame(client_date).T\n",
        "df_client.reset_index(inplace=True)\n",
        "df_client.columns = ['id_client', 'first_day', 'last_day', 'frequency']"
      ]
    },
    {
      "cell_type": "code",
      "execution_count": 21,
      "metadata": {
        "id": "-eTZZf8UEB4u"
      },
      "outputs": [],
      "source": [
        "# How many days is the customer a member? It will be used for normalize data\n",
        "interval = df_client['last_day']- df_client['first_day']\n",
        "interval = interval.apply(lambda x: x.days)"
      ]
    },
    {
      "cell_type": "code",
      "execution_count": 22,
      "metadata": {
        "colab": {
          "base_uri": "https://localhost:8080/",
          "height": 206
        },
        "id": "Oi3dYqyaIiG8",
        "outputId": "25f63654-6eb3-46f7-bdf8-85866d9fd2b3"
      },
      "outputs": [
        {
          "data": {
            "text/html": [
              "<div>\n",
              "<style scoped>\n",
              "    .dataframe tbody tr th:only-of-type {\n",
              "        vertical-align: middle;\n",
              "    }\n",
              "\n",
              "    .dataframe tbody tr th {\n",
              "        vertical-align: top;\n",
              "    }\n",
              "\n",
              "    .dataframe thead th {\n",
              "        text-align: right;\n",
              "    }\n",
              "</style>\n",
              "<table border=\"1\" class=\"dataframe\">\n",
              "  <thead>\n",
              "    <tr style=\"text-align: right;\">\n",
              "      <th></th>\n",
              "      <th>id_client</th>\n",
              "      <th>first_day</th>\n",
              "      <th>last_day</th>\n",
              "      <th>frequency</th>\n",
              "      <th>interval</th>\n",
              "    </tr>\n",
              "  </thead>\n",
              "  <tbody>\n",
              "    <tr>\n",
              "      <th>0</th>\n",
              "      <td>12346</td>\n",
              "      <td>2021-01-18</td>\n",
              "      <td>2021-01-18</td>\n",
              "      <td>1</td>\n",
              "      <td>0</td>\n",
              "    </tr>\n",
              "    <tr>\n",
              "      <th>1</th>\n",
              "      <td>12347</td>\n",
              "      <td>2020-12-07</td>\n",
              "      <td>2021-12-07</td>\n",
              "      <td>7</td>\n",
              "      <td>365</td>\n",
              "    </tr>\n",
              "    <tr>\n",
              "      <th>2</th>\n",
              "      <td>12348</td>\n",
              "      <td>2020-12-16</td>\n",
              "      <td>2021-09-25</td>\n",
              "      <td>4</td>\n",
              "      <td>283</td>\n",
              "    </tr>\n",
              "    <tr>\n",
              "      <th>3</th>\n",
              "      <td>12349</td>\n",
              "      <td>2021-11-21</td>\n",
              "      <td>2021-11-21</td>\n",
              "      <td>1</td>\n",
              "      <td>0</td>\n",
              "    </tr>\n",
              "    <tr>\n",
              "      <th>4</th>\n",
              "      <td>12350</td>\n",
              "      <td>2021-02-02</td>\n",
              "      <td>2021-02-02</td>\n",
              "      <td>1</td>\n",
              "      <td>0</td>\n",
              "    </tr>\n",
              "  </tbody>\n",
              "</table>\n",
              "</div>"
            ],
            "text/plain": [
              "  id_client  first_day   last_day  frequency  interval\n",
              "0     12346 2021-01-18 2021-01-18          1         0\n",
              "1     12347 2020-12-07 2021-12-07          7       365\n",
              "2     12348 2020-12-16 2021-09-25          4       283\n",
              "3     12349 2021-11-21 2021-11-21          1         0\n",
              "4     12350 2021-02-02 2021-02-02          1         0"
            ]
          },
          "execution_count": 22,
          "metadata": {},
          "output_type": "execute_result"
        }
      ],
      "source": [
        "df_client['interval'] = interval\n",
        "df_client['frequency'] = pd.to_numeric(df_client['frequency'])\n",
        "df_client.head()"
      ]
    },
    {
      "cell_type": "code",
      "execution_count": 23,
      "metadata": {
        "colab": {
          "base_uri": "https://localhost:8080/"
        },
        "id": "AfeCu4Syh7SW",
        "outputId": "1be4636f-8fbf-451c-ebba-f9408b648de9"
      },
      "outputs": [
        {
          "name": "stdout",
          "output_type": "stream",
          "text": [
            "<class 'pandas.core.frame.DataFrame'>\n",
            "RangeIndex: 4339 entries, 0 to 4338\n",
            "Data columns (total 5 columns):\n",
            " #   Column     Non-Null Count  Dtype         \n",
            "---  ------     --------------  -----         \n",
            " 0   id_client  4339 non-null   object        \n",
            " 1   first_day  4339 non-null   datetime64[ns]\n",
            " 2   last_day   4339 non-null   datetime64[ns]\n",
            " 3   frequency  4339 non-null   int64         \n",
            " 4   interval   4339 non-null   int64         \n",
            "dtypes: datetime64[ns](2), int64(2), object(1)\n",
            "memory usage: 169.6+ KB\n"
          ]
        }
      ],
      "source": [
        "df_client.info()"
      ]
    },
    {
      "cell_type": "code",
      "execution_count": 24,
      "metadata": {
        "colab": {
          "base_uri": "https://localhost:8080/",
          "height": 81
        },
        "id": "86TSdC8AQ4Ec",
        "outputId": "e9bac423-c660-4ce2-eff7-a2644a03d5e9"
      },
      "outputs": [
        {
          "data": {
            "text/html": [
              "<div>\n",
              "<style scoped>\n",
              "    .dataframe tbody tr th:only-of-type {\n",
              "        vertical-align: middle;\n",
              "    }\n",
              "\n",
              "    .dataframe tbody tr th {\n",
              "        vertical-align: top;\n",
              "    }\n",
              "\n",
              "    .dataframe thead th {\n",
              "        text-align: right;\n",
              "    }\n",
              "</style>\n",
              "<table border=\"1\" class=\"dataframe\">\n",
              "  <thead>\n",
              "    <tr style=\"text-align: right;\">\n",
              "      <th></th>\n",
              "      <th>id_client</th>\n",
              "      <th>first_day</th>\n",
              "      <th>last_day</th>\n",
              "      <th>frequency</th>\n",
              "      <th>interval</th>\n",
              "    </tr>\n",
              "  </thead>\n",
              "  <tbody>\n",
              "    <tr>\n",
              "      <th>3190</th>\n",
              "      <td>16705</td>\n",
              "      <td>2020-12-16</td>\n",
              "      <td>2021-12-09</td>\n",
              "      <td>20</td>\n",
              "      <td>358</td>\n",
              "    </tr>\n",
              "  </tbody>\n",
              "</table>\n",
              "</div>"
            ],
            "text/plain": [
              "     id_client  first_day   last_day  frequency  interval\n",
              "3190     16705 2020-12-16 2021-12-09         20       358"
            ]
          },
          "execution_count": 24,
          "metadata": {},
          "output_type": "execute_result"
        }
      ],
      "source": [
        "df_client.sort_values('last_day').tail(1) # this is the last day of the data set"
      ]
    },
    {
      "attachments": {},
      "cell_type": "markdown",
      "metadata": {
        "id": "kAgkNooDYY0F"
      },
      "source": [
        "We will calculate de Recency (from RFM) that is the last day the costumer made an action. We need a number of days to actual date. I'm coding this in 05/2022, and the last transaction of data set was beginning of December 2021, so i will consider the actual date as December 31 2021."
      ]
    },
    {
      "cell_type": "code",
      "execution_count": 25,
      "metadata": {
        "colab": {
          "base_uri": "https://localhost:8080/"
        },
        "id": "WnaRmnR-Zroh",
        "outputId": "af85d450-7ad8-472c-e0ef-35388b6b842a"
      },
      "outputs": [
        {
          "data": {
            "text/plain": [
              "\"\\nrecency_2 = []\\ndate = dt.strptime('2021-12-31', '%Y-%m-%d')\\ndf_client['last_day'].apply(lambda x: recency_2.append(date-x))\\nrecency_2[:5]\\n\""
            ]
          },
          "execution_count": 25,
          "metadata": {},
          "output_type": "execute_result"
        }
      ],
      "source": [
        "'''\n",
        "recency_2 = []\n",
        "date = dt.strptime('2021-12-31', '%Y-%m-%d')\n",
        "df_client['last_day'].apply(lambda x: recency_2.append(date-x))\n",
        "recency_2[:5]\n",
        "'''"
      ]
    },
    {
      "cell_type": "code",
      "execution_count": 26,
      "metadata": {
        "id": "1H-SECYxb9oG"
      },
      "outputs": [
        {
          "ename": "NameError",
          "evalue": "name 'recency_2' is not defined",
          "output_type": "error",
          "traceback": [
            "\u001b[1;31m---------------------------------------------------------------------------\u001b[0m",
            "\u001b[1;31mNameError\u001b[0m                                 Traceback (most recent call last)",
            "\u001b[1;32mc:\\Users\\LUCAS\\Desktop\\Lucas\\PROGRAMAÇÃO\\PORTFOLIO\\Client Segmentation\\ClientSegmentation_2.ipynb Cell 45\u001b[0m in \u001b[0;36m<cell line: 2>\u001b[1;34m()\u001b[0m\n\u001b[0;32m      <a href='vscode-notebook-cell:/c%3A/Users/LUCAS/Desktop/Lucas/PROGRAMA%C3%87%C3%83O/PORTFOLIO/Client%20Segmentation/ClientSegmentation_2.ipynb#X62sZmlsZQ%3D%3D?line=0'>1</a>\u001b[0m recency \u001b[39m=\u001b[39m []\n\u001b[0;32m      <a href='vscode-notebook-cell:/c%3A/Users/LUCAS/Desktop/Lucas/PROGRAMA%C3%87%C3%83O/PORTFOLIO/Client%20Segmentation/ClientSegmentation_2.ipynb#X62sZmlsZQ%3D%3D?line=1'>2</a>\u001b[0m \u001b[39mfor\u001b[39;00m c \u001b[39min\u001b[39;00m \u001b[39mrange\u001b[39m(\u001b[39mlen\u001b[39m(df_client)):\n\u001b[1;32m----> <a href='vscode-notebook-cell:/c%3A/Users/LUCAS/Desktop/Lucas/PROGRAMA%C3%87%C3%83O/PORTFOLIO/Client%20Segmentation/ClientSegmentation_2.ipynb#X62sZmlsZQ%3D%3D?line=2'>3</a>\u001b[0m   recency\u001b[39m.\u001b[39mappend(\u001b[39mint\u001b[39m(\u001b[39mstr\u001b[39m(recency_2[c])\u001b[39m.\u001b[39msplit()[\u001b[39m0\u001b[39m])) \u001b[39m# splitting to get only the number of days\u001b[39;00m\n\u001b[0;32m      <a href='vscode-notebook-cell:/c%3A/Users/LUCAS/Desktop/Lucas/PROGRAMA%C3%87%C3%83O/PORTFOLIO/Client%20Segmentation/ClientSegmentation_2.ipynb#X62sZmlsZQ%3D%3D?line=3'>4</a>\u001b[0m recency[: \u001b[39m5\u001b[39m]\n",
            "\u001b[1;31mNameError\u001b[0m: name 'recency_2' is not defined"
          ]
        }
      ],
      "source": [
        "recency = []\n",
        "for c in range(len(df_client)):\n",
        "  recency.append(int(str(recency_2[c]).split()[0])) # splitting to get only the number of days\n",
        "recency[: 5]"
      ]
    },
    {
      "cell_type": "code",
      "execution_count": null,
      "metadata": {
        "colab": {
          "base_uri": "https://localhost:8080/",
          "height": 424
        },
        "id": "ca9ASvupb3jR",
        "outputId": "ebea2140-dff6-4818-837d-ca5938ecb798"
      },
      "outputs": [
        {
          "data": {
            "text/html": [
              "<div>\n",
              "<style scoped>\n",
              "    .dataframe tbody tr th:only-of-type {\n",
              "        vertical-align: middle;\n",
              "    }\n",
              "\n",
              "    .dataframe tbody tr th {\n",
              "        vertical-align: top;\n",
              "    }\n",
              "\n",
              "    .dataframe thead th {\n",
              "        text-align: right;\n",
              "    }\n",
              "</style>\n",
              "<table border=\"1\" class=\"dataframe\">\n",
              "  <thead>\n",
              "    <tr style=\"text-align: right;\">\n",
              "      <th></th>\n",
              "      <th>id_client</th>\n",
              "      <th>first_day</th>\n",
              "      <th>last_day</th>\n",
              "      <th>frequency</th>\n",
              "      <th>interval</th>\n",
              "      <th>recency</th>\n",
              "    </tr>\n",
              "  </thead>\n",
              "  <tbody>\n",
              "    <tr>\n",
              "      <th>0</th>\n",
              "      <td>12346</td>\n",
              "      <td>2021-01-18</td>\n",
              "      <td>2021-01-18</td>\n",
              "      <td>1</td>\n",
              "      <td>0</td>\n",
              "      <td>347</td>\n",
              "    </tr>\n",
              "    <tr>\n",
              "      <th>1</th>\n",
              "      <td>12347</td>\n",
              "      <td>2020-12-07</td>\n",
              "      <td>2021-12-07</td>\n",
              "      <td>7</td>\n",
              "      <td>365</td>\n",
              "      <td>24</td>\n",
              "    </tr>\n",
              "    <tr>\n",
              "      <th>2</th>\n",
              "      <td>12348</td>\n",
              "      <td>2020-12-16</td>\n",
              "      <td>2021-09-25</td>\n",
              "      <td>4</td>\n",
              "      <td>283</td>\n",
              "      <td>97</td>\n",
              "    </tr>\n",
              "    <tr>\n",
              "      <th>3</th>\n",
              "      <td>12349</td>\n",
              "      <td>2021-11-21</td>\n",
              "      <td>2021-11-21</td>\n",
              "      <td>1</td>\n",
              "      <td>0</td>\n",
              "      <td>40</td>\n",
              "    </tr>\n",
              "    <tr>\n",
              "      <th>4</th>\n",
              "      <td>12350</td>\n",
              "      <td>2021-02-02</td>\n",
              "      <td>2021-02-02</td>\n",
              "      <td>1</td>\n",
              "      <td>0</td>\n",
              "      <td>332</td>\n",
              "    </tr>\n",
              "    <tr>\n",
              "      <th>...</th>\n",
              "      <td>...</td>\n",
              "      <td>...</td>\n",
              "      <td>...</td>\n",
              "      <td>...</td>\n",
              "      <td>...</td>\n",
              "      <td>...</td>\n",
              "    </tr>\n",
              "    <tr>\n",
              "      <th>4334</th>\n",
              "      <td>18280</td>\n",
              "      <td>2021-03-07</td>\n",
              "      <td>2021-03-07</td>\n",
              "      <td>1</td>\n",
              "      <td>0</td>\n",
              "      <td>299</td>\n",
              "    </tr>\n",
              "    <tr>\n",
              "      <th>4335</th>\n",
              "      <td>18281</td>\n",
              "      <td>2021-06-12</td>\n",
              "      <td>2021-06-12</td>\n",
              "      <td>1</td>\n",
              "      <td>0</td>\n",
              "      <td>202</td>\n",
              "    </tr>\n",
              "    <tr>\n",
              "      <th>4336</th>\n",
              "      <td>18282</td>\n",
              "      <td>2021-08-05</td>\n",
              "      <td>2021-12-02</td>\n",
              "      <td>2</td>\n",
              "      <td>119</td>\n",
              "      <td>29</td>\n",
              "    </tr>\n",
              "    <tr>\n",
              "      <th>4337</th>\n",
              "      <td>18283</td>\n",
              "      <td>2021-01-06</td>\n",
              "      <td>2021-12-06</td>\n",
              "      <td>16</td>\n",
              "      <td>334</td>\n",
              "      <td>25</td>\n",
              "    </tr>\n",
              "    <tr>\n",
              "      <th>4338</th>\n",
              "      <td>18287</td>\n",
              "      <td>2021-05-22</td>\n",
              "      <td>2021-10-28</td>\n",
              "      <td>3</td>\n",
              "      <td>159</td>\n",
              "      <td>64</td>\n",
              "    </tr>\n",
              "  </tbody>\n",
              "</table>\n",
              "<p>4339 rows × 6 columns</p>\n",
              "</div>"
            ],
            "text/plain": [
              "     id_client  first_day   last_day  frequency  interval  recency\n",
              "0        12346 2021-01-18 2021-01-18          1         0      347\n",
              "1        12347 2020-12-07 2021-12-07          7       365       24\n",
              "2        12348 2020-12-16 2021-09-25          4       283       97\n",
              "3        12349 2021-11-21 2021-11-21          1         0       40\n",
              "4        12350 2021-02-02 2021-02-02          1         0      332\n",
              "...        ...        ...        ...        ...       ...      ...\n",
              "4334     18280 2021-03-07 2021-03-07          1         0      299\n",
              "4335     18281 2021-06-12 2021-06-12          1         0      202\n",
              "4336     18282 2021-08-05 2021-12-02          2       119       29\n",
              "4337     18283 2021-01-06 2021-12-06         16       334       25\n",
              "4338     18287 2021-05-22 2021-10-28          3       159       64\n",
              "\n",
              "[4339 rows x 6 columns]"
            ]
          },
          "execution_count": 43,
          "metadata": {},
          "output_type": "execute_result"
        }
      ],
      "source": [
        "df_client['recency'] = recency\n",
        "df_client"
      ]
    },
    {
      "cell_type": "code",
      "execution_count": null,
      "metadata": {
        "colab": {
          "base_uri": "https://localhost:8080/",
          "height": 455
        },
        "id": "nUN33UARMTi8",
        "outputId": "ea83e175-6cdb-4e0d-935d-7f95c2fff87b"
      },
      "outputs": [
        {
          "name": "stderr",
          "output_type": "stream",
          "text": [
            "C:\\Users\\LUCAS\\AppData\\Local\\Temp\\ipykernel_18104\\326702902.py:2: FutureWarning: The default value of numeric_only in DataFrameGroupBy.sum is deprecated. In a future version, numeric_only will default to False. Either specify numeric_only or select only columns which should be valid for the function.\n",
            "  data_clients = df.groupby('id_client').sum().sort_values('monetary', ascending=False)\n"
          ]
        },
        {
          "data": {
            "text/html": [
              "<div>\n",
              "<style scoped>\n",
              "    .dataframe tbody tr th:only-of-type {\n",
              "        vertical-align: middle;\n",
              "    }\n",
              "\n",
              "    .dataframe tbody tr th {\n",
              "        vertical-align: top;\n",
              "    }\n",
              "\n",
              "    .dataframe thead th {\n",
              "        text-align: right;\n",
              "    }\n",
              "</style>\n",
              "<table border=\"1\" class=\"dataframe\">\n",
              "  <thead>\n",
              "    <tr style=\"text-align: right;\">\n",
              "      <th></th>\n",
              "      <th>products</th>\n",
              "      <th>monetary</th>\n",
              "    </tr>\n",
              "    <tr>\n",
              "      <th>id_client</th>\n",
              "      <th></th>\n",
              "      <th></th>\n",
              "    </tr>\n",
              "  </thead>\n",
              "  <tbody>\n",
              "    <tr>\n",
              "      <th>14646</th>\n",
              "      <td>197491</td>\n",
              "      <td>280206.02</td>\n",
              "    </tr>\n",
              "    <tr>\n",
              "      <th>18102</th>\n",
              "      <td>64124</td>\n",
              "      <td>259657.30</td>\n",
              "    </tr>\n",
              "    <tr>\n",
              "      <th>17450</th>\n",
              "      <td>69993</td>\n",
              "      <td>194550.79</td>\n",
              "    </tr>\n",
              "    <tr>\n",
              "      <th>16446</th>\n",
              "      <td>80997</td>\n",
              "      <td>168472.50</td>\n",
              "    </tr>\n",
              "    <tr>\n",
              "      <th>14911</th>\n",
              "      <td>80515</td>\n",
              "      <td>143825.06</td>\n",
              "    </tr>\n",
              "    <tr>\n",
              "      <th>...</th>\n",
              "      <td>...</td>\n",
              "      <td>...</td>\n",
              "    </tr>\n",
              "    <tr>\n",
              "      <th>17956</th>\n",
              "      <td>1</td>\n",
              "      <td>12.75</td>\n",
              "    </tr>\n",
              "    <tr>\n",
              "      <th>16454</th>\n",
              "      <td>3</td>\n",
              "      <td>6.90</td>\n",
              "    </tr>\n",
              "    <tr>\n",
              "      <th>14792</th>\n",
              "      <td>2</td>\n",
              "      <td>6.20</td>\n",
              "    </tr>\n",
              "    <tr>\n",
              "      <th>16738</th>\n",
              "      <td>3</td>\n",
              "      <td>3.75</td>\n",
              "    </tr>\n",
              "    <tr>\n",
              "      <th>13256</th>\n",
              "      <td>12540</td>\n",
              "      <td>0.00</td>\n",
              "    </tr>\n",
              "  </tbody>\n",
              "</table>\n",
              "<p>4339 rows × 2 columns</p>\n",
              "</div>"
            ],
            "text/plain": [
              "           products  monetary\n",
              "id_client                    \n",
              "14646        197491 280206.02\n",
              "18102         64124 259657.30\n",
              "17450         69993 194550.79\n",
              "16446         80997 168472.50\n",
              "14911         80515 143825.06\n",
              "...             ...       ...\n",
              "17956             1     12.75\n",
              "16454             3      6.90\n",
              "14792             2      6.20\n",
              "16738             3      3.75\n",
              "13256         12540      0.00\n",
              "\n",
              "[4339 rows x 2 columns]"
            ]
          },
          "execution_count": 44,
          "metadata": {},
          "output_type": "execute_result"
        }
      ],
      "source": [
        "# Selecting columns to merge and create our dataframe to be used\n",
        "data_clients = df.groupby('id_client').sum().sort_values('monetary', ascending=False)\n",
        "data_clients"
      ]
    },
    {
      "cell_type": "code",
      "execution_count": null,
      "metadata": {
        "id": "GpqeSA4b9U0S"
      },
      "outputs": [],
      "source": [
        "data_clients.reset_index(inplace=True)"
      ]
    },
    {
      "cell_type": "code",
      "execution_count": null,
      "metadata": {
        "id": "FwFJRjQMIiEw"
      },
      "outputs": [],
      "source": [
        "# Creating dataframe with RFM information\n",
        "df_rfm = df_client.merge(data_clients[['id_client', 'monetary']], on='id_client').sort_values('monetary', ascending=False).reset_index(drop=True)"
      ]
    },
    {
      "cell_type": "code",
      "execution_count": null,
      "metadata": {
        "colab": {
          "base_uri": "https://localhost:8080/",
          "height": 206
        },
        "id": "92IyB-HuMe7m",
        "outputId": "0459a055-d3a2-4967-c630-c8136c6d5fe9"
      },
      "outputs": [
        {
          "data": {
            "text/html": [
              "<div>\n",
              "<style scoped>\n",
              "    .dataframe tbody tr th:only-of-type {\n",
              "        vertical-align: middle;\n",
              "    }\n",
              "\n",
              "    .dataframe tbody tr th {\n",
              "        vertical-align: top;\n",
              "    }\n",
              "\n",
              "    .dataframe thead th {\n",
              "        text-align: right;\n",
              "    }\n",
              "</style>\n",
              "<table border=\"1\" class=\"dataframe\">\n",
              "  <thead>\n",
              "    <tr style=\"text-align: right;\">\n",
              "      <th></th>\n",
              "      <th>id_client</th>\n",
              "      <th>first_day</th>\n",
              "      <th>last_day</th>\n",
              "      <th>frequency</th>\n",
              "      <th>interval</th>\n",
              "      <th>recency</th>\n",
              "      <th>monetary</th>\n",
              "    </tr>\n",
              "  </thead>\n",
              "  <tbody>\n",
              "    <tr>\n",
              "      <th>0</th>\n",
              "      <td>14646</td>\n",
              "      <td>2020-12-20</td>\n",
              "      <td>2021-12-08</td>\n",
              "      <td>74</td>\n",
              "      <td>353</td>\n",
              "      <td>23</td>\n",
              "      <td>280206.02</td>\n",
              "    </tr>\n",
              "    <tr>\n",
              "      <th>1</th>\n",
              "      <td>18102</td>\n",
              "      <td>2020-12-07</td>\n",
              "      <td>2021-12-09</td>\n",
              "      <td>60</td>\n",
              "      <td>367</td>\n",
              "      <td>22</td>\n",
              "      <td>259657.30</td>\n",
              "    </tr>\n",
              "    <tr>\n",
              "      <th>2</th>\n",
              "      <td>17450</td>\n",
              "      <td>2020-12-07</td>\n",
              "      <td>2021-12-01</td>\n",
              "      <td>46</td>\n",
              "      <td>359</td>\n",
              "      <td>30</td>\n",
              "      <td>194550.79</td>\n",
              "    </tr>\n",
              "    <tr>\n",
              "      <th>3</th>\n",
              "      <td>16446</td>\n",
              "      <td>2021-05-18</td>\n",
              "      <td>2021-12-09</td>\n",
              "      <td>2</td>\n",
              "      <td>205</td>\n",
              "      <td>22</td>\n",
              "      <td>168472.50</td>\n",
              "    </tr>\n",
              "    <tr>\n",
              "      <th>4</th>\n",
              "      <td>14911</td>\n",
              "      <td>2020-12-01</td>\n",
              "      <td>2021-12-08</td>\n",
              "      <td>202</td>\n",
              "      <td>372</td>\n",
              "      <td>23</td>\n",
              "      <td>143825.06</td>\n",
              "    </tr>\n",
              "  </tbody>\n",
              "</table>\n",
              "</div>"
            ],
            "text/plain": [
              "  id_client  first_day   last_day  frequency  interval  recency  monetary\n",
              "0     14646 2020-12-20 2021-12-08         74       353       23 280206.02\n",
              "1     18102 2020-12-07 2021-12-09         60       367       22 259657.30\n",
              "2     17450 2020-12-07 2021-12-01         46       359       30 194550.79\n",
              "3     16446 2021-05-18 2021-12-09          2       205       22 168472.50\n",
              "4     14911 2020-12-01 2021-12-08        202       372       23 143825.06"
            ]
          },
          "execution_count": 47,
          "metadata": {},
          "output_type": "execute_result"
        }
      ],
      "source": [
        "df_rfm.head()"
      ]
    },
    {
      "cell_type": "code",
      "execution_count": null,
      "metadata": {
        "colab": {
          "base_uri": "https://localhost:8080/",
          "height": 300
        },
        "id": "PaDRTfzJIh_y",
        "outputId": "f62f116b-d80f-40fa-c887-c3925d81fe25"
      },
      "outputs": [
        {
          "data": {
            "text/html": [
              "<div>\n",
              "<style scoped>\n",
              "    .dataframe tbody tr th:only-of-type {\n",
              "        vertical-align: middle;\n",
              "    }\n",
              "\n",
              "    .dataframe tbody tr th {\n",
              "        vertical-align: top;\n",
              "    }\n",
              "\n",
              "    .dataframe thead th {\n",
              "        text-align: right;\n",
              "    }\n",
              "</style>\n",
              "<table border=\"1\" class=\"dataframe\">\n",
              "  <thead>\n",
              "    <tr style=\"text-align: right;\">\n",
              "      <th></th>\n",
              "      <th>frequency</th>\n",
              "      <th>interval</th>\n",
              "      <th>recency</th>\n",
              "      <th>monetary</th>\n",
              "    </tr>\n",
              "  </thead>\n",
              "  <tbody>\n",
              "    <tr>\n",
              "      <th>count</th>\n",
              "      <td>4339.00</td>\n",
              "      <td>4339.00</td>\n",
              "      <td>4339.00</td>\n",
              "      <td>4339.00</td>\n",
              "    </tr>\n",
              "    <tr>\n",
              "      <th>mean</th>\n",
              "      <td>4.28</td>\n",
              "      <td>130.74</td>\n",
              "      <td>114.04</td>\n",
              "      <td>2053.79</td>\n",
              "    </tr>\n",
              "    <tr>\n",
              "      <th>std</th>\n",
              "      <td>7.73</td>\n",
              "      <td>132.21</td>\n",
              "      <td>100.01</td>\n",
              "      <td>8988.25</td>\n",
              "    </tr>\n",
              "    <tr>\n",
              "      <th>min</th>\n",
              "      <td>1.00</td>\n",
              "      <td>0.00</td>\n",
              "      <td>22.00</td>\n",
              "      <td>0.00</td>\n",
              "    </tr>\n",
              "    <tr>\n",
              "      <th>25%</th>\n",
              "      <td>1.00</td>\n",
              "      <td>0.00</td>\n",
              "      <td>39.00</td>\n",
              "      <td>307.25</td>\n",
              "    </tr>\n",
              "    <tr>\n",
              "      <th>50%</th>\n",
              "      <td>2.00</td>\n",
              "      <td>93.00</td>\n",
              "      <td>72.00</td>\n",
              "      <td>674.45</td>\n",
              "    </tr>\n",
              "    <tr>\n",
              "      <th>75%</th>\n",
              "      <td>5.00</td>\n",
              "      <td>252.00</td>\n",
              "      <td>163.50</td>\n",
              "      <td>1661.64</td>\n",
              "    </tr>\n",
              "    <tr>\n",
              "      <th>max</th>\n",
              "      <td>211.00</td>\n",
              "      <td>373.00</td>\n",
              "      <td>395.00</td>\n",
              "      <td>280206.02</td>\n",
              "    </tr>\n",
              "  </tbody>\n",
              "</table>\n",
              "</div>"
            ],
            "text/plain": [
              "       frequency  interval  recency  monetary\n",
              "count    4339.00   4339.00  4339.00   4339.00\n",
              "mean        4.28    130.74   114.04   2053.79\n",
              "std         7.73    132.21   100.01   8988.25\n",
              "min         1.00      0.00    22.00      0.00\n",
              "25%         1.00      0.00    39.00    307.25\n",
              "50%         2.00     93.00    72.00    674.45\n",
              "75%         5.00    252.00   163.50   1661.64\n",
              "max       211.00    373.00   395.00 280206.02"
            ]
          },
          "execution_count": 48,
          "metadata": {},
          "output_type": "execute_result"
        }
      ],
      "source": [
        "df_rfm.describe()"
      ]
    },
    {
      "attachments": {},
      "cell_type": "markdown",
      "metadata": {
        "id": "-GLx77j-jlpz"
      },
      "source": [
        "We will normalize the data using rank normalization.<br>\n",
        "So we rank all the customers based on each of requisites for RFM and divide for the max rank"
      ]
    },
    {
      "attachments": {},
      "cell_type": "markdown",
      "metadata": {
        "id": "HzWw7pBepPET"
      },
      "source": [
        "### Normalizing"
      ]
    },
    {
      "cell_type": "code",
      "execution_count": null,
      "metadata": {
        "id": "4xVD9-m3gygE"
      },
      "outputs": [],
      "source": [
        "df_rfm['R_rank'] = df_rfm['recency'].rank(ascending=False)\n",
        "df_rfm['F_rank'] = df_rfm['frequency'].rank(ascending=True)\n",
        "df_rfm['M_rank'] = df_rfm['monetary'].rank(ascending=True)\n",
        " \n",
        "# normalizing the rank of the customers\n",
        "df_rfm['R_rank_norm'] = (df_rfm['R_rank']/df_rfm['R_rank'].max())*100\n",
        "df_rfm['F_rank_norm'] = (df_rfm['F_rank']/df_rfm['F_rank'].max())*100\n",
        "df_rfm['M_rank_norm'] = (df_rfm['M_rank']/df_rfm['M_rank'].max())*100"
      ]
    },
    {
      "attachments": {},
      "cell_type": "markdown",
      "metadata": {
        "id": "uwGs3AJsQIyv"
      },
      "source": [
        "We need to weight the 3 attributes of RFM to make it all 100%. So we're using close weights of a text i've found in my research:\n",
        "- 15% recency\n",
        "- 30% frquency\n",
        "- 55% monetary\n",
        "<br>"
      ]
    },
    {
      "attachments": {},
      "cell_type": "markdown",
      "metadata": {
        "id": "vmU1YfseRMeu"
      },
      "source": [
        "We're going to set max score to 5"
      ]
    },
    {
      "cell_type": "code",
      "execution_count": null,
      "metadata": {
        "colab": {
          "base_uri": "https://localhost:8080/",
          "height": 269
        },
        "id": "VZD6VxVIdeWU",
        "outputId": "f06cae59-d34d-419c-908b-a423e22fb98a"
      },
      "outputs": [
        {
          "data": {
            "text/html": [
              "<div>\n",
              "<style scoped>\n",
              "    .dataframe tbody tr th:only-of-type {\n",
              "        vertical-align: middle;\n",
              "    }\n",
              "\n",
              "    .dataframe tbody tr th {\n",
              "        vertical-align: top;\n",
              "    }\n",
              "\n",
              "    .dataframe thead th {\n",
              "        text-align: right;\n",
              "    }\n",
              "</style>\n",
              "<table border=\"1\" class=\"dataframe\">\n",
              "  <thead>\n",
              "    <tr style=\"text-align: right;\">\n",
              "      <th></th>\n",
              "      <th>id_client</th>\n",
              "      <th>RFM_Score</th>\n",
              "    </tr>\n",
              "  </thead>\n",
              "  <tbody>\n",
              "    <tr>\n",
              "      <th>0</th>\n",
              "      <td>14646</td>\n",
              "      <td>4.98</td>\n",
              "    </tr>\n",
              "    <tr>\n",
              "      <th>1</th>\n",
              "      <td>18102</td>\n",
              "      <td>4.99</td>\n",
              "    </tr>\n",
              "    <tr>\n",
              "      <th>2</th>\n",
              "      <td>17450</td>\n",
              "      <td>4.88</td>\n",
              "    </tr>\n",
              "    <tr>\n",
              "      <th>3</th>\n",
              "      <td>16446</td>\n",
              "      <td>2.62</td>\n",
              "    </tr>\n",
              "    <tr>\n",
              "      <th>4</th>\n",
              "      <td>14911</td>\n",
              "      <td>4.99</td>\n",
              "    </tr>\n",
              "    <tr>\n",
              "      <th>5</th>\n",
              "      <td>12415</td>\n",
              "      <td>4.67</td>\n",
              "    </tr>\n",
              "    <tr>\n",
              "      <th>6</th>\n",
              "      <td>14156</td>\n",
              "      <td>4.88</td>\n",
              "    </tr>\n",
              "  </tbody>\n",
              "</table>\n",
              "</div>"
            ],
            "text/plain": [
              "  id_client  RFM_Score\n",
              "0     14646       4.98\n",
              "1     18102       4.99\n",
              "2     17450       4.88\n",
              "3     16446       2.62\n",
              "4     14911       4.99\n",
              "5     12415       4.67\n",
              "6     14156       4.88"
            ]
          },
          "execution_count": 50,
          "metadata": {},
          "output_type": "execute_result"
        }
      ],
      "source": [
        "df_rfm['RFM_Score'] = 0.15*df_rfm['R_rank_norm']+0.30 * \\\n",
        "    df_rfm['F_rank_norm']+0.55*df_rfm['M_rank_norm']\n",
        "df_rfm['RFM_Score'] *= 0.05\n",
        "df_rfm = df_rfm.round(2)\n",
        "df_rfm[['id_client', 'RFM_Score']].head(7)"
      ]
    },
    {
      "attachments": {},
      "cell_type": "markdown",
      "metadata": {
        "id": "ra9oenr3RZGx"
      },
      "source": [
        "Based on my research too, we set this classification for the clients based on their RFM score:\n",
        "- RFM score > 4.5:  Top Customer\n",
        "- 4.5 < RFM score > 4.0:  High Value Customer\n",
        "- 4.0 < RFM score > 3.0:  Medium Value Customer\n",
        "- 3.0 < RFM score > 1.6:  Low Value Customer\n",
        "- RFM score =< 1.6:  Lost Customer"
      ]
    },
    {
      "cell_type": "code",
      "execution_count": null,
      "metadata": {
        "colab": {
          "base_uri": "https://localhost:8080/"
        },
        "id": "BxgHeYApdeUI",
        "outputId": "d1af096c-c31e-4ef4-de60-3b6d1edfb657"
      },
      "outputs": [
        {
          "data": {
            "text/plain": [
              "Lost Customers    1492\n",
              "Low Value         1164\n",
              "Medium Value       910\n",
              "High value         440\n",
              "Top                333\n",
              "Name: segment, dtype: int64"
            ]
          },
          "execution_count": 51,
          "metadata": {},
          "output_type": "execute_result"
        }
      ],
      "source": [
        "df_rfm[\"segment\"] = np.where(df_rfm['RFM_Score'] > 4.5, \"Top\",\n",
        "                        (np.where(df_rfm['RFM_Score'] > 4,    'High value',\n",
        "                        (np.where(df_rfm['RFM_Score'] > 3,    'Medium Value',\n",
        "                         np.where(df_rfm['RFM_Score'] > 1.6,  'Low Value', \n",
        "                                                              'Lost Customers'))))))\n",
        "df_rfm['segment'].value_counts()"
      ]
    },
    {
      "attachments": {},
      "cell_type": "markdown",
      "metadata": {
        "id": "UevANQarj2LE"
      },
      "source": [
        "Let's take a look at out customers and how they have been classified"
      ]
    },
    {
      "cell_type": "code",
      "execution_count": null,
      "metadata": {
        "colab": {
          "base_uri": "https://localhost:8080/"
        },
        "id": "02bJsUaF3PeS",
        "outputId": "7a3091af-5638-4800-d024-c0fcfcbddb01"
      },
      "outputs": [
        {
          "name": "stdout",
          "output_type": "stream",
          "text": [
            "17.82 % of customers were cassificated as Top or High Value\n"
          ]
        }
      ],
      "source": [
        "top_high = df_rfm[(df_rfm['segment'] == 'Top') | (df_rfm['segment'] == 'High value')]\n",
        "print(round(len(top_high)/len(df_rfm) * 100, 2), '% of customers were cassificated as Top or High Value')"
      ]
    },
    {
      "cell_type": "code",
      "execution_count": null,
      "metadata": {
        "colab": {
          "base_uri": "https://localhost:8080/"
        },
        "id": "TQDKccUx4lN6",
        "outputId": "61944f93-f17f-49e6-a1de-47770c03a6cc"
      },
      "outputs": [
        {
          "name": "stdout",
          "output_type": "stream",
          "text": [
            "63.35 % of total earnings come from Top and High Value costumers\n"
          ]
        }
      ],
      "source": [
        "print(round(top_high['monetary'].sum() / df_rfm['monetary'].sum() * 100, 2), '% of total earnings come from Top and High Value costumers')"
      ]
    },
    {
      "attachments": {},
      "cell_type": "markdown",
      "metadata": {
        "id": "pJT1RQLf2hz9"
      },
      "source": [
        "As said in the competition's description, we should look for Pareto's Law in this dataset and we can see that about 20% of customers are in Top and High Value classification, although they dont reach 80% of revenue"
      ]
    },
    {
      "cell_type": "code",
      "execution_count": null,
      "metadata": {
        "colab": {
          "base_uri": "https://localhost:8080/",
          "height": 206
        },
        "id": "mJvF2lmv-rq9",
        "outputId": "341d4568-e795-4115-bcbd-aa3cab94ce3c"
      },
      "outputs": [
        {
          "data": {
            "text/html": [
              "<div>\n",
              "<style scoped>\n",
              "    .dataframe tbody tr th:only-of-type {\n",
              "        vertical-align: middle;\n",
              "    }\n",
              "\n",
              "    .dataframe tbody tr th {\n",
              "        vertical-align: top;\n",
              "    }\n",
              "\n",
              "    .dataframe thead th {\n",
              "        text-align: right;\n",
              "    }\n",
              "</style>\n",
              "<table border=\"1\" class=\"dataframe\">\n",
              "  <thead>\n",
              "    <tr style=\"text-align: right;\">\n",
              "      <th></th>\n",
              "      <th>id_client</th>\n",
              "      <th>first_day</th>\n",
              "      <th>last_day</th>\n",
              "      <th>frequency</th>\n",
              "      <th>interval</th>\n",
              "      <th>recency</th>\n",
              "      <th>monetary</th>\n",
              "      <th>R_rank</th>\n",
              "      <th>F_rank</th>\n",
              "      <th>M_rank</th>\n",
              "      <th>R_rank_norm</th>\n",
              "      <th>F_rank_norm</th>\n",
              "      <th>M_rank_norm</th>\n",
              "      <th>RFM_Score</th>\n",
              "      <th>segment</th>\n",
              "    </tr>\n",
              "  </thead>\n",
              "  <tbody>\n",
              "    <tr>\n",
              "      <th>0</th>\n",
              "      <td>14646</td>\n",
              "      <td>2020-12-20</td>\n",
              "      <td>2021-12-08</td>\n",
              "      <td>74</td>\n",
              "      <td>353</td>\n",
              "      <td>23</td>\n",
              "      <td>280206.02</td>\n",
              "      <td>4253.00</td>\n",
              "      <td>4332.00</td>\n",
              "      <td>4339.00</td>\n",
              "      <td>98.40</td>\n",
              "      <td>99.84</td>\n",
              "      <td>99.84</td>\n",
              "      <td>4.98</td>\n",
              "      <td>Top</td>\n",
              "    </tr>\n",
              "    <tr>\n",
              "      <th>1</th>\n",
              "      <td>18102</td>\n",
              "      <td>2020-12-07</td>\n",
              "      <td>2021-12-09</td>\n",
              "      <td>60</td>\n",
              "      <td>367</td>\n",
              "      <td>22</td>\n",
              "      <td>259657.30</td>\n",
              "      <td>4322.00</td>\n",
              "      <td>4329.00</td>\n",
              "      <td>4338.00</td>\n",
              "      <td>100.00</td>\n",
              "      <td>99.77</td>\n",
              "      <td>99.77</td>\n",
              "      <td>4.99</td>\n",
              "      <td>Top</td>\n",
              "    </tr>\n",
              "    <tr>\n",
              "      <th>2</th>\n",
              "      <td>17450</td>\n",
              "      <td>2020-12-07</td>\n",
              "      <td>2021-12-01</td>\n",
              "      <td>46</td>\n",
              "      <td>359</td>\n",
              "      <td>30</td>\n",
              "      <td>194550.79</td>\n",
              "      <td>3764.00</td>\n",
              "      <td>4320.00</td>\n",
              "      <td>4337.00</td>\n",
              "      <td>87.09</td>\n",
              "      <td>99.56</td>\n",
              "      <td>99.56</td>\n",
              "      <td>4.88</td>\n",
              "      <td>Top</td>\n",
              "    </tr>\n",
              "    <tr>\n",
              "      <th>3</th>\n",
              "      <td>16446</td>\n",
              "      <td>2021-05-18</td>\n",
              "      <td>2021-12-09</td>\n",
              "      <td>2</td>\n",
              "      <td>205</td>\n",
              "      <td>22</td>\n",
              "      <td>168472.50</td>\n",
              "      <td>4322.00</td>\n",
              "      <td>1910.50</td>\n",
              "      <td>4336.00</td>\n",
              "      <td>100.00</td>\n",
              "      <td>44.03</td>\n",
              "      <td>44.03</td>\n",
              "      <td>2.62</td>\n",
              "      <td>Low Value</td>\n",
              "    </tr>\n",
              "    <tr>\n",
              "      <th>4</th>\n",
              "      <td>14911</td>\n",
              "      <td>2020-12-01</td>\n",
              "      <td>2021-12-08</td>\n",
              "      <td>202</td>\n",
              "      <td>372</td>\n",
              "      <td>23</td>\n",
              "      <td>143825.06</td>\n",
              "      <td>4253.00</td>\n",
              "      <td>4338.00</td>\n",
              "      <td>4335.00</td>\n",
              "      <td>98.40</td>\n",
              "      <td>99.98</td>\n",
              "      <td>99.98</td>\n",
              "      <td>4.99</td>\n",
              "      <td>Top</td>\n",
              "    </tr>\n",
              "  </tbody>\n",
              "</table>\n",
              "</div>"
            ],
            "text/plain": [
              "  id_client  first_day   last_day  frequency  interval  recency  monetary  \\\n",
              "0     14646 2020-12-20 2021-12-08         74       353       23 280206.02   \n",
              "1     18102 2020-12-07 2021-12-09         60       367       22 259657.30   \n",
              "2     17450 2020-12-07 2021-12-01         46       359       30 194550.79   \n",
              "3     16446 2021-05-18 2021-12-09          2       205       22 168472.50   \n",
              "4     14911 2020-12-01 2021-12-08        202       372       23 143825.06   \n",
              "\n",
              "   R_rank  F_rank  M_rank  R_rank_norm  F_rank_norm  M_rank_norm  RFM_Score  \\\n",
              "0 4253.00 4332.00 4339.00        98.40        99.84        99.84       4.98   \n",
              "1 4322.00 4329.00 4338.00       100.00        99.77        99.77       4.99   \n",
              "2 3764.00 4320.00 4337.00        87.09        99.56        99.56       4.88   \n",
              "3 4322.00 1910.50 4336.00       100.00        44.03        44.03       2.62   \n",
              "4 4253.00 4338.00 4335.00        98.40        99.98        99.98       4.99   \n",
              "\n",
              "     segment  \n",
              "0        Top  \n",
              "1        Top  \n",
              "2        Top  \n",
              "3  Low Value  \n",
              "4        Top  "
            ]
          },
          "execution_count": 54,
          "metadata": {},
          "output_type": "execute_result"
        }
      ],
      "source": [
        "df_rfm.head()"
      ]
    },
    {
      "cell_type": "code",
      "execution_count": null,
      "metadata": {
        "colab": {
          "base_uri": "https://localhost:8080/",
          "height": 238
        },
        "id": "Q2RdZnRadeK6",
        "outputId": "432bd185-acc8-46dc-8f14-be14a71d9d9e"
      },
      "outputs": [
        {
          "data": {
            "text/html": [
              "<div>\n",
              "<style scoped>\n",
              "    .dataframe tbody tr th:only-of-type {\n",
              "        vertical-align: middle;\n",
              "    }\n",
              "\n",
              "    .dataframe tbody tr th {\n",
              "        vertical-align: top;\n",
              "    }\n",
              "\n",
              "    .dataframe thead th {\n",
              "        text-align: right;\n",
              "    }\n",
              "</style>\n",
              "<table border=\"1\" class=\"dataframe\">\n",
              "  <thead>\n",
              "    <tr style=\"text-align: right;\">\n",
              "      <th></th>\n",
              "      <th>frequency</th>\n",
              "      <th>recency</th>\n",
              "      <th>monetary</th>\n",
              "    </tr>\n",
              "    <tr>\n",
              "      <th>segment</th>\n",
              "      <th></th>\n",
              "      <th></th>\n",
              "      <th></th>\n",
              "    </tr>\n",
              "  </thead>\n",
              "  <tbody>\n",
              "    <tr>\n",
              "      <th>Top</th>\n",
              "      <td>20.91</td>\n",
              "      <td>29.87</td>\n",
              "      <td>12943.11</td>\n",
              "    </tr>\n",
              "    <tr>\n",
              "      <th>High value</th>\n",
              "      <td>7.94</td>\n",
              "      <td>45.14</td>\n",
              "      <td>3034.13</td>\n",
              "    </tr>\n",
              "    <tr>\n",
              "      <th>Medium Value</th>\n",
              "      <td>4.35</td>\n",
              "      <td>68.22</td>\n",
              "      <td>1620.03</td>\n",
              "    </tr>\n",
              "    <tr>\n",
              "      <th>Low Value</th>\n",
              "      <td>2.28</td>\n",
              "      <td>117.90</td>\n",
              "      <td>1010.77</td>\n",
              "    </tr>\n",
              "    <tr>\n",
              "      <th>Lost Customers</th>\n",
              "      <td>1.00</td>\n",
              "      <td>178.09</td>\n",
              "      <td>412.58</td>\n",
              "    </tr>\n",
              "  </tbody>\n",
              "</table>\n",
              "</div>"
            ],
            "text/plain": [
              "                frequency  recency  monetary\n",
              "segment                                     \n",
              "Top                 20.91    29.87  12943.11\n",
              "High value           7.94    45.14   3034.13\n",
              "Medium Value         4.35    68.22   1620.03\n",
              "Low Value            2.28   117.90   1010.77\n",
              "Lost Customers       1.00   178.09    412.58"
            ]
          },
          "execution_count": 55,
          "metadata": {},
          "output_type": "execute_result"
        }
      ],
      "source": [
        "df_rfm[['frequency', 'recency', 'monetary', 'segment']].groupby('segment').mean().sort_values('frequency', ascending=False)"
      ]
    },
    {
      "cell_type": "code",
      "execution_count": null,
      "metadata": {
        "colab": {
          "base_uri": "https://localhost:8080/",
          "height": 238
        },
        "id": "8Qpbn1LZdeI5",
        "outputId": "fa2d3ade-9851-422b-e9dc-e67d3a828e96"
      },
      "outputs": [
        {
          "data": {
            "text/html": [
              "<div>\n",
              "<style scoped>\n",
              "    .dataframe tbody tr th:only-of-type {\n",
              "        vertical-align: middle;\n",
              "    }\n",
              "\n",
              "    .dataframe tbody tr th {\n",
              "        vertical-align: top;\n",
              "    }\n",
              "\n",
              "    .dataframe thead th {\n",
              "        text-align: right;\n",
              "    }\n",
              "</style>\n",
              "<table border=\"1\" class=\"dataframe\">\n",
              "  <thead>\n",
              "    <tr style=\"text-align: right;\">\n",
              "      <th></th>\n",
              "      <th>frequency</th>\n",
              "      <th>recency</th>\n",
              "      <th>monetary</th>\n",
              "    </tr>\n",
              "    <tr>\n",
              "      <th>segment</th>\n",
              "      <th></th>\n",
              "      <th></th>\n",
              "      <th></th>\n",
              "    </tr>\n",
              "  </thead>\n",
              "  <tbody>\n",
              "    <tr>\n",
              "      <th>Top</th>\n",
              "      <td>15.00</td>\n",
              "      <td>26.00</td>\n",
              "      <td>5575.56</td>\n",
              "    </tr>\n",
              "    <tr>\n",
              "      <th>High value</th>\n",
              "      <td>7.00</td>\n",
              "      <td>38.00</td>\n",
              "      <td>2466.41</td>\n",
              "    </tr>\n",
              "    <tr>\n",
              "      <th>Medium Value</th>\n",
              "      <td>4.00</td>\n",
              "      <td>48.00</td>\n",
              "      <td>1286.38</td>\n",
              "    </tr>\n",
              "    <tr>\n",
              "      <th>Low Value</th>\n",
              "      <td>2.00</td>\n",
              "      <td>90.00</td>\n",
              "      <td>606.27</td>\n",
              "    </tr>\n",
              "    <tr>\n",
              "      <th>Lost Customers</th>\n",
              "      <td>1.00</td>\n",
              "      <td>153.00</td>\n",
              "      <td>257.28</td>\n",
              "    </tr>\n",
              "  </tbody>\n",
              "</table>\n",
              "</div>"
            ],
            "text/plain": [
              "                frequency  recency  monetary\n",
              "segment                                     \n",
              "Top                 15.00    26.00   5575.56\n",
              "High value           7.00    38.00   2466.41\n",
              "Medium Value         4.00    48.00   1286.38\n",
              "Low Value            2.00    90.00    606.27\n",
              "Lost Customers       1.00   153.00    257.28"
            ]
          },
          "execution_count": 56,
          "metadata": {},
          "output_type": "execute_result"
        }
      ],
      "source": [
        "df_rfm[['frequency', 'recency', 'monetary', 'segment']].groupby('segment').median().sort_values('monetary', ascending=False)"
      ]
    },
    {
      "attachments": {},
      "cell_type": "markdown",
      "metadata": {
        "id": "lp4dgwgtBLT0"
      },
      "source": [
        "So we were able to segment company's clients using RFM Method.<br>\n",
        "I'm very proud because I have never heard about this method before and was suffering in the beggining, but with a little bit of research in the internet everything started to clarify and I think we had a pretty nice result.<br><br>\n",
        "\n",
        "We can see that Top Customers and High Value Costumers are the most valuable segments and we should invest so that these customers continue to buy and retain their loyalty. <br><br>\n",
        "Medium Value Costumers have a low frequency but a good monetary spend and we should invest in this costumers to make they buy more frequently, maybe sending exclusive discounts for them sometimes.<br><br>\n",
        "Lost Customers are customers who made just a single purchase annd maybe we could find out if something happened that they did'nt have a good experience and try to fix it."
      ]
    },
    {
      "attachments": {},
      "cell_type": "markdown",
      "metadata": {
        "id": "xOMs4Ahw17gi"
      },
      "source": [
        "### Exploratory Analysis\n",
        "Now that we could divide customers into different segments, let's take a closer look in what insights we could have"
      ]
    },
    {
      "cell_type": "code",
      "execution_count": null,
      "metadata": {
        "colab": {
          "base_uri": "https://localhost:8080/",
          "height": 206
        },
        "id": "j5b-P3Zh17De",
        "outputId": "e91e0a15-7dd1-41f8-af8a-ae9a499fe518"
      },
      "outputs": [
        {
          "data": {
            "text/html": [
              "<div>\n",
              "<style scoped>\n",
              "    .dataframe tbody tr th:only-of-type {\n",
              "        vertical-align: middle;\n",
              "    }\n",
              "\n",
              "    .dataframe tbody tr th {\n",
              "        vertical-align: top;\n",
              "    }\n",
              "\n",
              "    .dataframe thead th {\n",
              "        text-align: right;\n",
              "    }\n",
              "</style>\n",
              "<table border=\"1\" class=\"dataframe\">\n",
              "  <thead>\n",
              "    <tr style=\"text-align: right;\">\n",
              "      <th></th>\n",
              "      <th>id_transaction</th>\n",
              "      <th>date</th>\n",
              "      <th>id_client</th>\n",
              "      <th>country</th>\n",
              "      <th>products</th>\n",
              "      <th>monetary</th>\n",
              "    </tr>\n",
              "  </thead>\n",
              "  <tbody>\n",
              "    <tr>\n",
              "      <th>0</th>\n",
              "      <td>548370</td>\n",
              "      <td>2021-03-30</td>\n",
              "      <td>15528</td>\n",
              "      <td>United Kingdom</td>\n",
              "      <td>123</td>\n",
              "      <td>229.33</td>\n",
              "    </tr>\n",
              "    <tr>\n",
              "      <th>1</th>\n",
              "      <td>575767</td>\n",
              "      <td>2021-11-11</td>\n",
              "      <td>17348</td>\n",
              "      <td>United Kingdom</td>\n",
              "      <td>163</td>\n",
              "      <td>209.73</td>\n",
              "    </tr>\n",
              "    <tr>\n",
              "      <th>2</th>\n",
              "      <td>549106</td>\n",
              "      <td>2021-04-06</td>\n",
              "      <td>17045</td>\n",
              "      <td>United Kingdom</td>\n",
              "      <td>1</td>\n",
              "      <td>39.95</td>\n",
              "    </tr>\n",
              "    <tr>\n",
              "      <th>3</th>\n",
              "      <td>573112</td>\n",
              "      <td>2021-10-27</td>\n",
              "      <td>16416</td>\n",
              "      <td>United Kingdom</td>\n",
              "      <td>357</td>\n",
              "      <td>344.83</td>\n",
              "    </tr>\n",
              "    <tr>\n",
              "      <th>4</th>\n",
              "      <td>576630</td>\n",
              "      <td>2021-11-16</td>\n",
              "      <td>13816</td>\n",
              "      <td>Germany</td>\n",
              "      <td>91</td>\n",
              "      <td>199.98</td>\n",
              "    </tr>\n",
              "  </tbody>\n",
              "</table>\n",
              "</div>"
            ],
            "text/plain": [
              "  id_transaction       date id_client         country  products  monetary\n",
              "0         548370 2021-03-30     15528  United Kingdom       123    229.33\n",
              "1         575767 2021-11-11     17348  United Kingdom       163    209.73\n",
              "2         549106 2021-04-06     17045  United Kingdom         1     39.95\n",
              "3         573112 2021-10-27     16416  United Kingdom       357    344.83\n",
              "4         576630 2021-11-16     13816         Germany        91    199.98"
            ]
          },
          "execution_count": 57,
          "metadata": {},
          "output_type": "execute_result"
        }
      ],
      "source": [
        "df.head()"
      ]
    },
    {
      "cell_type": "code",
      "execution_count": null,
      "metadata": {
        "colab": {
          "base_uri": "https://localhost:8080/"
        },
        "id": "7Vs0BSNu6cGn",
        "outputId": "9a394e9e-f7d2-4a01-87f6-9619bf9533ed"
      },
      "outputs": [
        {
          "name": "stdout",
          "output_type": "stream",
          "text": [
            "<class 'pandas.core.frame.DataFrame'>\n",
            "RangeIndex: 18566 entries, 0 to 18565\n",
            "Data columns (total 6 columns):\n",
            " #   Column          Non-Null Count  Dtype         \n",
            "---  ------          --------------  -----         \n",
            " 0   id_transaction  18566 non-null  object        \n",
            " 1   date            18566 non-null  datetime64[ns]\n",
            " 2   id_client       18566 non-null  object        \n",
            " 3   country         18566 non-null  object        \n",
            " 4   products        18566 non-null  int64         \n",
            " 5   monetary        18566 non-null  float64       \n",
            "dtypes: datetime64[ns](1), float64(1), int64(1), object(3)\n",
            "memory usage: 870.4+ KB\n"
          ]
        }
      ],
      "source": [
        "df.info()"
      ]
    },
    {
      "cell_type": "code",
      "execution_count": null,
      "metadata": {
        "id": "8M7Fst6G6gAa"
      },
      "outputs": [],
      "source": [
        "eda_trans = df.merge(df_rfm[['id_client', 'segment']], on='id_client')"
      ]
    },
    {
      "cell_type": "code",
      "execution_count": null,
      "metadata": {
        "id": "LEdzL9s--8pD"
      },
      "outputs": [],
      "source": [
        "eda_customer = df_rfm[['id_client', 'frequency', 'recency', 'monetary', 'segment']]"
      ]
    },
    {
      "cell_type": "code",
      "execution_count": null,
      "metadata": {
        "id": "Q62MGj_juClj"
      },
      "outputs": [],
      "source": [
        "eda_customer = eda_customer.merge(df[['id_client', 'country']],\n",
        "                                  how='right', \n",
        "                                  on='id_client'\n",
        "                                  ).drop_duplicates(keep='first', subset='id_client')\n",
        "\n",
        "eda_customer = eda_customer[['id_client', 'frequency', 'recency', 'monetary', 'country', 'segment']].reset_index(drop=True)"
      ]
    },
    {
      "cell_type": "code",
      "execution_count": null,
      "metadata": {
        "id": "d4H-O5SlwHSC"
      },
      "outputs": [],
      "source": [
        "months = eda_trans['date'].apply(lambda x: x.month)\n",
        "\n",
        "eda_trans['month'] = months"
      ]
    },
    {
      "cell_type": "code",
      "execution_count": null,
      "metadata": {
        "colab": {
          "base_uri": "https://localhost:8080/",
          "height": 143
        },
        "id": "-sXFc6R50EZX",
        "outputId": "6d4b9dfb-3686-4144-a8bc-170fdd1ccb7a"
      },
      "outputs": [
        {
          "data": {
            "text/html": [
              "<div>\n",
              "<style scoped>\n",
              "    .dataframe tbody tr th:only-of-type {\n",
              "        vertical-align: middle;\n",
              "    }\n",
              "\n",
              "    .dataframe tbody tr th {\n",
              "        vertical-align: top;\n",
              "    }\n",
              "\n",
              "    .dataframe thead th {\n",
              "        text-align: right;\n",
              "    }\n",
              "</style>\n",
              "<table border=\"1\" class=\"dataframe\">\n",
              "  <thead>\n",
              "    <tr style=\"text-align: right;\">\n",
              "      <th></th>\n",
              "      <th>id_transaction</th>\n",
              "      <th>date</th>\n",
              "      <th>id_client</th>\n",
              "      <th>country</th>\n",
              "      <th>products</th>\n",
              "      <th>monetary</th>\n",
              "      <th>segment</th>\n",
              "      <th>month</th>\n",
              "    </tr>\n",
              "  </thead>\n",
              "  <tbody>\n",
              "    <tr>\n",
              "      <th>0</th>\n",
              "      <td>548370</td>\n",
              "      <td>2021-03-30</td>\n",
              "      <td>15528</td>\n",
              "      <td>United Kingdom</td>\n",
              "      <td>123</td>\n",
              "      <td>229.33</td>\n",
              "      <td>Lost Customers</td>\n",
              "      <td>3</td>\n",
              "    </tr>\n",
              "    <tr>\n",
              "      <th>1</th>\n",
              "      <td>575767</td>\n",
              "      <td>2021-11-11</td>\n",
              "      <td>17348</td>\n",
              "      <td>United Kingdom</td>\n",
              "      <td>163</td>\n",
              "      <td>209.73</td>\n",
              "      <td>Medium Value</td>\n",
              "      <td>11</td>\n",
              "    </tr>\n",
              "    <tr>\n",
              "      <th>2</th>\n",
              "      <td>578719</td>\n",
              "      <td>2021-11-25</td>\n",
              "      <td>17348</td>\n",
              "      <td>United Kingdom</td>\n",
              "      <td>175</td>\n",
              "      <td>177.61</td>\n",
              "      <td>Medium Value</td>\n",
              "      <td>11</td>\n",
              "    </tr>\n",
              "  </tbody>\n",
              "</table>\n",
              "</div>"
            ],
            "text/plain": [
              "  id_transaction       date id_client         country  products  monetary  \\\n",
              "0         548370 2021-03-30     15528  United Kingdom       123    229.33   \n",
              "1         575767 2021-11-11     17348  United Kingdom       163    209.73   \n",
              "2         578719 2021-11-25     17348  United Kingdom       175    177.61   \n",
              "\n",
              "          segment  month  \n",
              "0  Lost Customers      3  \n",
              "1    Medium Value     11  \n",
              "2    Medium Value     11  "
            ]
          },
          "execution_count": 63,
          "metadata": {},
          "output_type": "execute_result"
        }
      ],
      "source": [
        "eda_trans.head(3)"
      ]
    },
    {
      "cell_type": "code",
      "execution_count": null,
      "metadata": {
        "colab": {
          "base_uri": "https://localhost:8080/",
          "height": 143
        },
        "id": "UV0IuswL7wSO",
        "outputId": "fb533978-50bb-497f-ac6e-cb1a2fc9933d"
      },
      "outputs": [
        {
          "data": {
            "text/html": [
              "<div>\n",
              "<style scoped>\n",
              "    .dataframe tbody tr th:only-of-type {\n",
              "        vertical-align: middle;\n",
              "    }\n",
              "\n",
              "    .dataframe tbody tr th {\n",
              "        vertical-align: top;\n",
              "    }\n",
              "\n",
              "    .dataframe thead th {\n",
              "        text-align: right;\n",
              "    }\n",
              "</style>\n",
              "<table border=\"1\" class=\"dataframe\">\n",
              "  <thead>\n",
              "    <tr style=\"text-align: right;\">\n",
              "      <th></th>\n",
              "      <th>id_client</th>\n",
              "      <th>frequency</th>\n",
              "      <th>recency</th>\n",
              "      <th>monetary</th>\n",
              "      <th>country</th>\n",
              "      <th>segment</th>\n",
              "    </tr>\n",
              "  </thead>\n",
              "  <tbody>\n",
              "    <tr>\n",
              "      <th>0</th>\n",
              "      <td>15528</td>\n",
              "      <td>1</td>\n",
              "      <td>276</td>\n",
              "      <td>229.33</td>\n",
              "      <td>United Kingdom</td>\n",
              "      <td>Lost Customers</td>\n",
              "    </tr>\n",
              "    <tr>\n",
              "      <th>1</th>\n",
              "      <td>17348</td>\n",
              "      <td>5</td>\n",
              "      <td>36</td>\n",
              "      <td>1159.52</td>\n",
              "      <td>United Kingdom</td>\n",
              "      <td>Medium Value</td>\n",
              "    </tr>\n",
              "    <tr>\n",
              "      <th>2</th>\n",
              "      <td>17045</td>\n",
              "      <td>3</td>\n",
              "      <td>135</td>\n",
              "      <td>339.44</td>\n",
              "      <td>United Kingdom</td>\n",
              "      <td>Low Value</td>\n",
              "    </tr>\n",
              "  </tbody>\n",
              "</table>\n",
              "</div>"
            ],
            "text/plain": [
              "  id_client  frequency  recency  monetary         country         segment\n",
              "0     15528          1      276    229.33  United Kingdom  Lost Customers\n",
              "1     17348          5       36   1159.52  United Kingdom    Medium Value\n",
              "2     17045          3      135    339.44  United Kingdom       Low Value"
            ]
          },
          "execution_count": 64,
          "metadata": {},
          "output_type": "execute_result"
        }
      ],
      "source": [
        "eda_customer.head(3)"
      ]
    },
    {
      "attachments": {},
      "cell_type": "markdown",
      "metadata": {
        "id": "JqYNpUwU4Lyx"
      },
      "source": [
        "### Transactions"
      ]
    },
    {
      "cell_type": "code",
      "execution_count": null,
      "metadata": {
        "colab": {
          "base_uri": "https://localhost:8080/",
          "height": 143
        },
        "id": "HZhUKKZm8Hv9",
        "outputId": "d9a571a6-82f4-4874-c774-426de96e6fe7"
      },
      "outputs": [
        {
          "data": {
            "text/html": [
              "<div>\n",
              "<style scoped>\n",
              "    .dataframe tbody tr th:only-of-type {\n",
              "        vertical-align: middle;\n",
              "    }\n",
              "\n",
              "    .dataframe tbody tr th {\n",
              "        vertical-align: top;\n",
              "    }\n",
              "\n",
              "    .dataframe thead th {\n",
              "        text-align: right;\n",
              "    }\n",
              "</style>\n",
              "<table border=\"1\" class=\"dataframe\">\n",
              "  <thead>\n",
              "    <tr style=\"text-align: right;\">\n",
              "      <th></th>\n",
              "      <th>id_transaction</th>\n",
              "      <th>date</th>\n",
              "      <th>id_client</th>\n",
              "      <th>country</th>\n",
              "      <th>products</th>\n",
              "      <th>monetary</th>\n",
              "      <th>segment</th>\n",
              "      <th>month</th>\n",
              "    </tr>\n",
              "  </thead>\n",
              "  <tbody>\n",
              "    <tr>\n",
              "      <th>0</th>\n",
              "      <td>548370</td>\n",
              "      <td>2021-03-30</td>\n",
              "      <td>15528</td>\n",
              "      <td>United Kingdom</td>\n",
              "      <td>123</td>\n",
              "      <td>229.33</td>\n",
              "      <td>Lost Customers</td>\n",
              "      <td>3</td>\n",
              "    </tr>\n",
              "    <tr>\n",
              "      <th>1</th>\n",
              "      <td>575767</td>\n",
              "      <td>2021-11-11</td>\n",
              "      <td>17348</td>\n",
              "      <td>United Kingdom</td>\n",
              "      <td>163</td>\n",
              "      <td>209.73</td>\n",
              "      <td>Medium Value</td>\n",
              "      <td>11</td>\n",
              "    </tr>\n",
              "    <tr>\n",
              "      <th>2</th>\n",
              "      <td>578719</td>\n",
              "      <td>2021-11-25</td>\n",
              "      <td>17348</td>\n",
              "      <td>United Kingdom</td>\n",
              "      <td>175</td>\n",
              "      <td>177.61</td>\n",
              "      <td>Medium Value</td>\n",
              "      <td>11</td>\n",
              "    </tr>\n",
              "  </tbody>\n",
              "</table>\n",
              "</div>"
            ],
            "text/plain": [
              "  id_transaction       date id_client         country  products  monetary  \\\n",
              "0         548370 2021-03-30     15528  United Kingdom       123    229.33   \n",
              "1         575767 2021-11-11     17348  United Kingdom       163    209.73   \n",
              "2         578719 2021-11-25     17348  United Kingdom       175    177.61   \n",
              "\n",
              "          segment  month  \n",
              "0  Lost Customers      3  \n",
              "1    Medium Value     11  \n",
              "2    Medium Value     11  "
            ]
          },
          "execution_count": 65,
          "metadata": {},
          "output_type": "execute_result"
        }
      ],
      "source": [
        "eda_trans.head(3)"
      ]
    },
    {
      "cell_type": "code",
      "execution_count": null,
      "metadata": {
        "colab": {
          "base_uri": "https://localhost:8080/",
          "height": 460
        },
        "id": "u4ImGsgYzDCl",
        "outputId": "fac1cbb5-1913-4990-e25b-1335ac7454c1"
      },
      "outputs": [
        {
          "data": {
            "image/png": "[encoded data removed]",
            "text/plain": [
              "<Figure size 1152x504 with 1 Axes>"
            ]
          },
          "metadata": {
            "needs_background": "light"
          },
          "output_type": "display_data"
        }
      ],
      "source": [
        "df_plot = eda_trans.groupby('month')[['products', 'monetary']].sum()\n",
        "\n",
        "plt.figure(figsize=(16,7))\n",
        "ax = sns.barplot(data=df_plot, x=df_plot.index, y='monetary', color='#629fd6')\n",
        "plt.xlabel('Month', {'fontsize': 11})\n",
        "plt.ylabel('Monetary spent', {'fontsize': 11})\n",
        "plt.title('Total spent per month in 2021', {'fontsize': 15})\n",
        "plt.xticks(np.arange(0, 12), labels=['J', 'F', 'M', 'A', 'M', 'J', 'J', 'A', 'S', 'O', 'N', 'D'])\n",
        "plt.tick_params(axis='y',\n",
        "                left=False,\n",
        "                labelleft=False)\n",
        "plt.ticklabel_format(style='plain', axis='y')\n",
        "plt.grid(False)\n",
        "\n",
        "ax.spines['top'].set_visible(False)\n",
        "ax.spines['right'].set_visible(False)\n",
        "ax.spines['left'].set_visible(False)\n",
        "\n",
        "\n",
        "plt.show()"
      ]
    },
    {
      "attachments": {},
      "cell_type": "markdown",
      "metadata": {
        "id": "jlISEop6kITb"
      },
      "source": [
        "- End of the year was the best season for the company\n",
        "- We can see how the company grew all over the year "
      ]
    },
    {
      "cell_type": "code",
      "execution_count": null,
      "metadata": {
        "id": "8-kVVKoYMB6N"
      },
      "outputs": [],
      "source": [
        "db = eda_customer.groupby(['country', 'segment'])['segment'].count().unstack(level=1)\n",
        "db = db.fillna(0)\n",
        "db['total'] = db[['High value', 'Lost Customers', 'Low Value', 'Medium Value', 'Top']].sum(axis=1)\n",
        "db = db[(db['total'] > 4) & ((db['Top'] > 0)|(db['High value'] > 0))] "
      ]
    },
    {
      "cell_type": "code",
      "execution_count": null,
      "metadata": {
        "id": "CvjncfULiPsL"
      },
      "outputs": [],
      "source": [
        "data = []\n",
        "\n",
        "for col in db:\n",
        "  if col != 'total':\n",
        "    data.append(db[col] / db['total'] * 100)\n"
      ]
    },
    {
      "cell_type": "code",
      "execution_count": null,
      "metadata": {
        "colab": {
          "base_uri": "https://localhost:8080/",
          "height": 551
        },
        "id": "tC1MlBAniPpy",
        "outputId": "2a0f940f-fa90-459c-81dd-d9547db6ed3d"
      },
      "outputs": [
        {
          "data": {
            "text/html": [
              "<div>\n",
              "<style scoped>\n",
              "    .dataframe tbody tr th:only-of-type {\n",
              "        vertical-align: middle;\n",
              "    }\n",
              "\n",
              "    .dataframe tbody tr th {\n",
              "        vertical-align: top;\n",
              "    }\n",
              "\n",
              "    .dataframe thead th {\n",
              "        text-align: right;\n",
              "    }\n",
              "</style>\n",
              "<table border=\"1\" class=\"dataframe\">\n",
              "  <thead>\n",
              "    <tr style=\"text-align: right;\">\n",
              "      <th></th>\n",
              "      <th>High Value</th>\n",
              "      <th>Lost Customers</th>\n",
              "      <th>Low Value</th>\n",
              "      <th>Medium Value</th>\n",
              "      <th>Top</th>\n",
              "    </tr>\n",
              "    <tr>\n",
              "      <th>country</th>\n",
              "      <th></th>\n",
              "      <th></th>\n",
              "      <th></th>\n",
              "      <th></th>\n",
              "      <th></th>\n",
              "    </tr>\n",
              "  </thead>\n",
              "  <tbody>\n",
              "    <tr>\n",
              "      <th>Channel Islands</th>\n",
              "      <td>11.11</td>\n",
              "      <td>33.33</td>\n",
              "      <td>44.44</td>\n",
              "      <td>11.11</td>\n",
              "      <td>0.00</td>\n",
              "    </tr>\n",
              "    <tr>\n",
              "      <th>Japan</th>\n",
              "      <td>12.50</td>\n",
              "      <td>37.50</td>\n",
              "      <td>25.00</td>\n",
              "      <td>25.00</td>\n",
              "      <td>0.00</td>\n",
              "    </tr>\n",
              "    <tr>\n",
              "      <th>Poland</th>\n",
              "      <td>16.67</td>\n",
              "      <td>33.33</td>\n",
              "      <td>33.33</td>\n",
              "      <td>16.67</td>\n",
              "      <td>0.00</td>\n",
              "    </tr>\n",
              "    <tr>\n",
              "      <th>Norway</th>\n",
              "      <td>20.00</td>\n",
              "      <td>40.00</td>\n",
              "      <td>10.00</td>\n",
              "      <td>30.00</td>\n",
              "      <td>0.00</td>\n",
              "    </tr>\n",
              "    <tr>\n",
              "      <th>Finland</th>\n",
              "      <td>25.00</td>\n",
              "      <td>41.67</td>\n",
              "      <td>25.00</td>\n",
              "      <td>8.33</td>\n",
              "      <td>0.00</td>\n",
              "    </tr>\n",
              "    <tr>\n",
              "      <th>Spain</th>\n",
              "      <td>3.45</td>\n",
              "      <td>34.48</td>\n",
              "      <td>34.48</td>\n",
              "      <td>24.14</td>\n",
              "      <td>3.45</td>\n",
              "    </tr>\n",
              "    <tr>\n",
              "      <th>Portugal</th>\n",
              "      <td>10.53</td>\n",
              "      <td>36.84</td>\n",
              "      <td>36.84</td>\n",
              "      <td>10.53</td>\n",
              "      <td>5.26</td>\n",
              "    </tr>\n",
              "    <tr>\n",
              "      <th>Italy</th>\n",
              "      <td>7.14</td>\n",
              "      <td>57.14</td>\n",
              "      <td>21.43</td>\n",
              "      <td>7.14</td>\n",
              "      <td>7.14</td>\n",
              "    </tr>\n",
              "    <tr>\n",
              "      <th>United Kingdom</th>\n",
              "      <td>10.12</td>\n",
              "      <td>34.40</td>\n",
              "      <td>26.70</td>\n",
              "      <td>21.04</td>\n",
              "      <td>7.73</td>\n",
              "    </tr>\n",
              "    <tr>\n",
              "      <th>France</th>\n",
              "      <td>12.64</td>\n",
              "      <td>32.18</td>\n",
              "      <td>20.69</td>\n",
              "      <td>25.29</td>\n",
              "      <td>9.20</td>\n",
              "    </tr>\n",
              "    <tr>\n",
              "      <th>Germany</th>\n",
              "      <td>13.83</td>\n",
              "      <td>27.66</td>\n",
              "      <td>25.53</td>\n",
              "      <td>22.34</td>\n",
              "      <td>10.64</td>\n",
              "    </tr>\n",
              "    <tr>\n",
              "      <th>Netherlands</th>\n",
              "      <td>11.11</td>\n",
              "      <td>44.44</td>\n",
              "      <td>11.11</td>\n",
              "      <td>22.22</td>\n",
              "      <td>11.11</td>\n",
              "    </tr>\n",
              "    <tr>\n",
              "      <th>Sweden</th>\n",
              "      <td>12.50</td>\n",
              "      <td>50.00</td>\n",
              "      <td>0.00</td>\n",
              "      <td>25.00</td>\n",
              "      <td>12.50</td>\n",
              "    </tr>\n",
              "    <tr>\n",
              "      <th>Belgium</th>\n",
              "      <td>8.70</td>\n",
              "      <td>26.09</td>\n",
              "      <td>17.39</td>\n",
              "      <td>34.78</td>\n",
              "      <td>13.04</td>\n",
              "    </tr>\n",
              "    <tr>\n",
              "      <th>Australia</th>\n",
              "      <td>12.50</td>\n",
              "      <td>0.00</td>\n",
              "      <td>37.50</td>\n",
              "      <td>25.00</td>\n",
              "      <td>25.00</td>\n",
              "    </tr>\n",
              "  </tbody>\n",
              "</table>\n",
              "</div>"
            ],
            "text/plain": [
              "                 High Value  Lost Customers  Low Value  Medium Value   Top\n",
              "country                                                                   \n",
              "Channel Islands       11.11           33.33      44.44         11.11  0.00\n",
              "Japan                 12.50           37.50      25.00         25.00  0.00\n",
              "Poland                16.67           33.33      33.33         16.67  0.00\n",
              "Norway                20.00           40.00      10.00         30.00  0.00\n",
              "Finland               25.00           41.67      25.00          8.33  0.00\n",
              "Spain                  3.45           34.48      34.48         24.14  3.45\n",
              "Portugal              10.53           36.84      36.84         10.53  5.26\n",
              "Italy                  7.14           57.14      21.43          7.14  7.14\n",
              "United Kingdom        10.12           34.40      26.70         21.04  7.73\n",
              "France                12.64           32.18      20.69         25.29  9.20\n",
              "Germany               13.83           27.66      25.53         22.34 10.64\n",
              "Netherlands           11.11           44.44      11.11         22.22 11.11\n",
              "Sweden                12.50           50.00       0.00         25.00 12.50\n",
              "Belgium                8.70           26.09      17.39         34.78 13.04\n",
              "Australia             12.50            0.00      37.50         25.00 25.00"
            ]
          },
          "execution_count": 69,
          "metadata": {},
          "output_type": "execute_result"
        }
      ],
      "source": [
        "data_plot = pd.DataFrame(data, index=['High Value', 'Lost Customers',\t'Low Value', 'Medium Value', 'Top'], columns=data[0].index).T\n",
        "data_plot = data_plot.sort_values(['Top', 'High Value'])\n",
        "data_plot"
      ]
    },
    {
      "cell_type": "code",
      "execution_count": null,
      "metadata": {
        "colab": {
          "base_uri": "https://localhost:8080/",
          "height": 797
        },
        "id": "yQj2qHjXiPnb",
        "outputId": "71c8d44e-6108-4655-f890-7f016c43ad78"
      },
      "outputs": [
        {
          "data": {
            "image/png": "[encoded data removed]",
            "text/plain": [
              "<Figure size 576x792 with 1 Axes>"
            ]
          },
          "metadata": {},
          "output_type": "display_data"
        }
      ],
      "source": [
        "labels = data_plot.index\n",
        "top = data_plot['Top']\n",
        "high = data_plot['High Value']\n",
        "medium = data_plot['Medium Value']\n",
        "low = data_plot['Low Value']\n",
        "lost = data_plot['Lost Customers']\n",
        "width=0.5\n",
        "\n",
        "# fig, ax = plt.subplots()\n",
        "sns.set_style('whitegrid')\n",
        "plt.figure(figsize=(8, 11))\n",
        "plt.barh(labels, top[labels], color='#324b4d', label='Top')\n",
        "plt.barh(labels, high[labels], color='#617c7e', left=top[labels], label='High Value')\n",
        "plt.barh(labels, medium[labels], color='#94b0b2', left=top[labels]+high[labels], label='Medium Value')\n",
        "plt.barh(labels, low[labels], color='#0c8787', left=top[labels]+high[labels]+medium[labels], label='Low Value')\n",
        "plt.title('Countries proportion of each segment', {'fontsize': 17})\n",
        "plt.legend()\n",
        "plt.grid(False)\n",
        "sns.despine(left=True)\n",
        "plt.tight_layout()"
      ]
    },
    {
      "attachments": {},
      "cell_type": "markdown",
      "metadata": {
        "id": "Badcz5oVZcbx"
      },
      "source": [
        "These are the countries that have best % of Top and High Values customers and represents a good decision of UK Merch to expand for them, mainly Australia, Japan and others european countries."
      ]
    },
    {
      "cell_type": "code",
      "execution_count": null,
      "metadata": {
        "colab": {
          "base_uri": "https://localhost:8080/"
        },
        "id": "wwsO8uGBMBsM",
        "outputId": "6db3ad3a-a5e5-4baa-b991-6b039b4d9169"
      },
      "outputs": [
        {
          "name": "stdout",
          "output_type": "stream",
          "text": [
            "82.01% of all revenue come from UK, so let´s take it out for the next chart\n"
          ]
        }
      ],
      "source": [
        "print(f\"{(eda_customer.groupby('country')['monetary'].sum()['United Kingdom'] / eda_customer.groupby('country')['monetary'].sum().sum() * 100).round(2)}% of all revenue come from UK, so let´s take it out for the next chart\")"
      ]
    },
    {
      "cell_type": "code",
      "execution_count": null,
      "metadata": {
        "id": "68jEv4StMBqI"
      },
      "outputs": [
        {
          "data": {
            "text/html": [
              "<div>\n",
              "<style scoped>\n",
              "    .dataframe tbody tr th:only-of-type {\n",
              "        vertical-align: middle;\n",
              "    }\n",
              "\n",
              "    .dataframe tbody tr th {\n",
              "        vertical-align: top;\n",
              "    }\n",
              "\n",
              "    .dataframe thead th {\n",
              "        text-align: right;\n",
              "    }\n",
              "</style>\n",
              "<table border=\"1\" class=\"dataframe\">\n",
              "  <thead>\n",
              "    <tr style=\"text-align: right;\">\n",
              "      <th>segment</th>\n",
              "      <th>country</th>\n",
              "      <th>High value</th>\n",
              "      <th>Lost Customers</th>\n",
              "      <th>Low Value</th>\n",
              "      <th>Medium Value</th>\n",
              "      <th>Top</th>\n",
              "    </tr>\n",
              "  </thead>\n",
              "  <tbody>\n",
              "    <tr>\n",
              "      <th>0</th>\n",
              "      <td>Netherlands</td>\n",
              "      <td>822.23</td>\n",
              "      <td>1036.95</td>\n",
              "      <td>1531.44</td>\n",
              "      <td>1849.70</td>\n",
              "      <td>280206.02</td>\n",
              "    </tr>\n",
              "    <tr>\n",
              "      <th>1</th>\n",
              "      <td>EIRE</td>\n",
              "      <td>0.00</td>\n",
              "      <td>0.00</td>\n",
              "      <td>0.00</td>\n",
              "      <td>4341.21</td>\n",
              "      <td>261204.69</td>\n",
              "    </tr>\n",
              "    <tr>\n",
              "      <th>2</th>\n",
              "      <td>Australia</td>\n",
              "      <td>2780.66</td>\n",
              "      <td>0.00</td>\n",
              "      <td>2969.00</td>\n",
              "      <td>1956.25</td>\n",
              "      <td>131401.98</td>\n",
              "    </tr>\n",
              "  </tbody>\n",
              "</table>\n",
              "</div>"
            ],
            "text/plain": [
              "segment      country  High value  Lost Customers  Low Value  Medium Value  \\\n",
              "0        Netherlands      822.23         1036.95    1531.44       1849.70   \n",
              "1               EIRE        0.00            0.00       0.00       4341.21   \n",
              "2          Australia     2780.66            0.00    2969.00       1956.25   \n",
              "\n",
              "segment       Top  \n",
              "0       280206.02  \n",
              "1       261204.69  \n",
              "2       131401.98  "
            ]
          },
          "execution_count": 72,
          "metadata": {},
          "output_type": "execute_result"
        }
      ],
      "source": [
        "data_plot = eda_customer.groupby(\n",
        "    ['country', 'segment'])['monetary'].sum().unstack(level=1).fillna(0)\n",
        "\n",
        "data_plot = data_plot[(data_plot['Top'] > 0) | (data_plot['High value'] > 0) | (data_plot['Medium Value'] > 0)] \n",
        "data_plot.drop('United Kingdom', inplace=True)\n",
        "data_plot = data_plot.sort_values(['Top', 'High value'], ascending=False).reset_index()\n",
        "data_plot.head(3)"
      ]
    },
    {
      "cell_type": "code",
      "execution_count": null,
      "metadata": {
        "colab": {
          "base_uri": "https://localhost:8080/",
          "height": 598
        },
        "id": "NlndC3PUMBkt",
        "outputId": "696fe2e7-6668-4a34-8ca8-34386b061876"
      },
      "outputs": [
        {
          "data": {
            "text/plain": [
              "<Figure size 432x288 with 0 Axes>"
            ]
          },
          "metadata": {},
          "output_type": "display_data"
        },
        {
          "data": {
            "image/png": "[encoded data removed]",
            "text/plain": [
              "<Figure size 1224x576 with 1 Axes>"
            ]
          },
          "metadata": {},
          "output_type": "display_data"
        }
      ],
      "source": [
        "plt.figure()\n",
        "data_plot[:10].plot(x='country', y=['Top', 'High value', 'Medium Value'], kind='bar', figsize=(17, 8), color=['#1e03fd', '#0399fc', '#94b0b2'], width=0.63)\n",
        "plt.title('Total spent per country by segment\\n', {'fontsize': 16})\n",
        "plt.xlabel('Country')\n",
        "plt.ylabel('Total Spent')\n",
        "plt.grid(False)\n",
        "plt.tight_layout()\n",
        "plt.show()"
      ]
    },
    {
      "attachments": {},
      "cell_type": "markdown",
      "metadata": {
        "id": "k_rfH7BUk001"
      },
      "source": [
        "- Here we can see the countries that have spent the most\n",
        "- Netherlands, EIRE and Australia are countris with great Top Customers\n",
        "- Germany and France also have nice customers in Top, High and Medium Value"
      ]
    },
    {
      "attachments": {},
      "cell_type": "markdown",
      "metadata": {
        "id": "llaiEu_b5QeJ"
      },
      "source": [
        "## Clustering\n",
        "To finish this projhect, I will just apply a clustering in the countries to practice it and see if it can group those countries outside UK with good results"
      ]
    },
    {
      "cell_type": "code",
      "execution_count": null,
      "metadata": {
        "colab": {
          "base_uri": "https://localhost:8080/"
        },
        "id": "paUhx4rhJDgb",
        "outputId": "edc022a5-8961-40a8-9830-236deae31c16"
      },
      "outputs": [
        {
          "name": "stderr",
          "output_type": "stream",
          "text": [
            "C:\\Users\\LUCAS\\AppData\\Local\\Temp\\ipykernel_18104\\4284997215.py:1: FutureWarning: Indexing with multiple keys (implicitly converted to a tuple of keys) will be deprecated, use a list instead.\n",
            "  X = eda_customer.groupby('country')['frequency', 'recency', 'monetary'].agg({'frequency': 'mean', 'recency': 'mean', 'monetary': 'sum'})\n"
          ]
        }
      ],
      "source": [
        "X = eda_customer.groupby('country')['frequency', 'recency', 'monetary'].agg({'frequency': 'mean', 'recency': 'mean', 'monetary': 'sum'})\n",
        "\n",
        "scaler = StandardScaler()\n",
        "x_scaled = scaler.fit_transform(X)"
      ]
    },
    {
      "cell_type": "code",
      "execution_count": null,
      "metadata": {
        "id": "nq3U8-IK4eW7"
      },
      "outputs": [],
      "source": [
        "clf = KMeans(n_clusters=5)\n",
        "x = clf.fit(x_scaled)"
      ]
    },
    {
      "cell_type": "code",
      "execution_count": null,
      "metadata": {
        "id": "mlwmpvZcKO97"
      },
      "outputs": [],
      "source": [
        "X['cluster'] = x.labels_"
      ]
    },
    {
      "cell_type": "code",
      "execution_count": null,
      "metadata": {
        "colab": {
          "base_uri": "https://localhost:8080/",
          "height": 238
        },
        "id": "U-DaG3xAKrJU",
        "outputId": "b0292811-10f3-444d-a273-6e0442b0c564"
      },
      "outputs": [
        {
          "data": {
            "text/html": [
              "<div>\n",
              "<style scoped>\n",
              "    .dataframe tbody tr th:only-of-type {\n",
              "        vertical-align: middle;\n",
              "    }\n",
              "\n",
              "    .dataframe tbody tr th {\n",
              "        vertical-align: top;\n",
              "    }\n",
              "\n",
              "    .dataframe thead th {\n",
              "        text-align: right;\n",
              "    }\n",
              "</style>\n",
              "<table border=\"1\" class=\"dataframe\">\n",
              "  <thead>\n",
              "    <tr style=\"text-align: right;\">\n",
              "      <th></th>\n",
              "      <th>frequency</th>\n",
              "      <th>recency</th>\n",
              "      <th>monetary</th>\n",
              "    </tr>\n",
              "    <tr>\n",
              "      <th>cluster</th>\n",
              "      <th></th>\n",
              "      <th></th>\n",
              "      <th></th>\n",
              "    </tr>\n",
              "  </thead>\n",
              "  <tbody>\n",
              "    <tr>\n",
              "      <th>0</th>\n",
              "      <td>3.90</td>\n",
              "      <td>99.85</td>\n",
              "      <td>58993.09</td>\n",
              "    </tr>\n",
              "    <tr>\n",
              "      <th>1</th>\n",
              "      <td>87.00</td>\n",
              "      <td>79.00</td>\n",
              "      <td>265545.90</td>\n",
              "    </tr>\n",
              "    <tr>\n",
              "      <th>2</th>\n",
              "      <td>1.75</td>\n",
              "      <td>324.00</td>\n",
              "      <td>1161.12</td>\n",
              "    </tr>\n",
              "    <tr>\n",
              "      <th>3</th>\n",
              "      <td>4.25</td>\n",
              "      <td>113.72</td>\n",
              "      <td>7308391.55</td>\n",
              "    </tr>\n",
              "    <tr>\n",
              "      <th>4</th>\n",
              "      <td>2.05</td>\n",
              "      <td>180.73</td>\n",
              "      <td>9397.12</td>\n",
              "    </tr>\n",
              "  </tbody>\n",
              "</table>\n",
              "</div>"
            ],
            "text/plain": [
              "         frequency  recency   monetary\n",
              "cluster                               \n",
              "0             3.90    99.85   58993.09\n",
              "1            87.00    79.00  265545.90\n",
              "2             1.75   324.00    1161.12\n",
              "3             4.25   113.72 7308391.55\n",
              "4             2.05   180.73    9397.12"
            ]
          },
          "execution_count": 77,
          "metadata": {},
          "output_type": "execute_result"
        }
      ],
      "source": [
        "X.groupby('cluster').mean()"
      ]
    },
    {
      "cell_type": "code",
      "execution_count": null,
      "metadata": {
        "colab": {
          "base_uri": "https://localhost:8080/",
          "height": 1000
        },
        "id": "H67dJXLbKqL2",
        "outputId": "3129d650-c001-4d11-e5f8-0f7e48d1aa2a"
      },
      "outputs": [
        {
          "data": {
            "text/html": [
              "<div>\n",
              "<style scoped>\n",
              "    .dataframe tbody tr th:only-of-type {\n",
              "        vertical-align: middle;\n",
              "    }\n",
              "\n",
              "    .dataframe tbody tr th {\n",
              "        vertical-align: top;\n",
              "    }\n",
              "\n",
              "    .dataframe thead th {\n",
              "        text-align: right;\n",
              "    }\n",
              "</style>\n",
              "<table border=\"1\" class=\"dataframe\">\n",
              "  <thead>\n",
              "    <tr style=\"text-align: right;\">\n",
              "      <th></th>\n",
              "      <th>frequency</th>\n",
              "      <th>recency</th>\n",
              "      <th>monetary</th>\n",
              "      <th>cluster</th>\n",
              "    </tr>\n",
              "    <tr>\n",
              "      <th>country</th>\n",
              "      <th></th>\n",
              "      <th></th>\n",
              "      <th></th>\n",
              "      <th></th>\n",
              "    </tr>\n",
              "  </thead>\n",
              "  <tbody>\n",
              "    <tr>\n",
              "      <th>Australia</th>\n",
              "      <td>7.12</td>\n",
              "      <td>122.12</td>\n",
              "      <td>139107.89</td>\n",
              "      <td>0</td>\n",
              "    </tr>\n",
              "    <tr>\n",
              "      <th>Austria</th>\n",
              "      <td>1.67</td>\n",
              "      <td>167.33</td>\n",
              "      <td>9483.50</td>\n",
              "      <td>4</td>\n",
              "    </tr>\n",
              "    <tr>\n",
              "      <th>Bahrain</th>\n",
              "      <td>1.00</td>\n",
              "      <td>231.00</td>\n",
              "      <td>548.40</td>\n",
              "      <td>4</td>\n",
              "    </tr>\n",
              "    <tr>\n",
              "      <th>Belgium</th>\n",
              "      <td>4.17</td>\n",
              "      <td>118.96</td>\n",
              "      <td>40278.78</td>\n",
              "      <td>0</td>\n",
              "    </tr>\n",
              "    <tr>\n",
              "      <th>Brazil</th>\n",
              "      <td>1.00</td>\n",
              "      <td>260.00</td>\n",
              "      <td>1143.60</td>\n",
              "      <td>2</td>\n",
              "    </tr>\n",
              "    <tr>\n",
              "      <th>Canada</th>\n",
              "      <td>1.50</td>\n",
              "      <td>207.50</td>\n",
              "      <td>3666.38</td>\n",
              "      <td>4</td>\n",
              "    </tr>\n",
              "    <tr>\n",
              "      <th>Channel Islands</th>\n",
              "      <td>2.89</td>\n",
              "      <td>161.78</td>\n",
              "      <td>20450.44</td>\n",
              "      <td>4</td>\n",
              "    </tr>\n",
              "    <tr>\n",
              "      <th>Cyprus</th>\n",
              "      <td>2.17</td>\n",
              "      <td>153.33</td>\n",
              "      <td>11775.98</td>\n",
              "      <td>4</td>\n",
              "    </tr>\n",
              "    <tr>\n",
              "      <th>Czech Republic</th>\n",
              "      <td>2.00</td>\n",
              "      <td>85.00</td>\n",
              "      <td>826.74</td>\n",
              "      <td>0</td>\n",
              "    </tr>\n",
              "    <tr>\n",
              "      <th>Denmark</th>\n",
              "      <td>2.22</td>\n",
              "      <td>69.78</td>\n",
              "      <td>19774.40</td>\n",
              "      <td>0</td>\n",
              "    </tr>\n",
              "    <tr>\n",
              "      <th>EIRE</th>\n",
              "      <td>87.00</td>\n",
              "      <td>79.00</td>\n",
              "      <td>265545.90</td>\n",
              "      <td>1</td>\n",
              "    </tr>\n",
              "    <tr>\n",
              "      <th>European Community</th>\n",
              "      <td>4.00</td>\n",
              "      <td>163.00</td>\n",
              "      <td>1300.25</td>\n",
              "      <td>4</td>\n",
              "    </tr>\n",
              "    <tr>\n",
              "      <th>Finland</th>\n",
              "      <td>3.42</td>\n",
              "      <td>78.75</td>\n",
              "      <td>22546.08</td>\n",
              "      <td>0</td>\n",
              "    </tr>\n",
              "    <tr>\n",
              "      <th>France</th>\n",
              "      <td>4.48</td>\n",
              "      <td>111.01</td>\n",
              "      <td>209024.05</td>\n",
              "      <td>0</td>\n",
              "    </tr>\n",
              "    <tr>\n",
              "      <th>Germany</th>\n",
              "      <td>4.86</td>\n",
              "      <td>99.12</td>\n",
              "      <td>228867.14</td>\n",
              "      <td>0</td>\n",
              "    </tr>\n",
              "    <tr>\n",
              "      <th>Greece</th>\n",
              "      <td>1.25</td>\n",
              "      <td>210.25</td>\n",
              "      <td>4760.52</td>\n",
              "      <td>4</td>\n",
              "    </tr>\n",
              "    <tr>\n",
              "      <th>Iceland</th>\n",
              "      <td>7.00</td>\n",
              "      <td>24.00</td>\n",
              "      <td>4310.00</td>\n",
              "      <td>0</td>\n",
              "    </tr>\n",
              "    <tr>\n",
              "      <th>Israel</th>\n",
              "      <td>1.67</td>\n",
              "      <td>131.00</td>\n",
              "      <td>7221.69</td>\n",
              "      <td>0</td>\n",
              "    </tr>\n",
              "    <tr>\n",
              "      <th>Italy</th>\n",
              "      <td>2.71</td>\n",
              "      <td>132.93</td>\n",
              "      <td>17483.24</td>\n",
              "      <td>0</td>\n",
              "    </tr>\n",
              "    <tr>\n",
              "      <th>Japan</th>\n",
              "      <td>2.50</td>\n",
              "      <td>150.12</td>\n",
              "      <td>37416.37</td>\n",
              "      <td>4</td>\n",
              "    </tr>\n",
              "    <tr>\n",
              "      <th>Lebanon</th>\n",
              "      <td>1.00</td>\n",
              "      <td>338.00</td>\n",
              "      <td>1693.88</td>\n",
              "      <td>2</td>\n",
              "    </tr>\n",
              "    <tr>\n",
              "      <th>Lithuania</th>\n",
              "      <td>4.00</td>\n",
              "      <td>388.00</td>\n",
              "      <td>1661.06</td>\n",
              "      <td>2</td>\n",
              "    </tr>\n",
              "    <tr>\n",
              "      <th>Malta</th>\n",
              "      <td>2.50</td>\n",
              "      <td>91.00</td>\n",
              "      <td>2725.59</td>\n",
              "      <td>0</td>\n",
              "    </tr>\n",
              "    <tr>\n",
              "      <th>Netherlands</th>\n",
              "      <td>10.56</td>\n",
              "      <td>123.56</td>\n",
              "      <td>285446.34</td>\n",
              "      <td>0</td>\n",
              "    </tr>\n",
              "    <tr>\n",
              "      <th>Norway</th>\n",
              "      <td>3.60</td>\n",
              "      <td>87.00</td>\n",
              "      <td>36165.44</td>\n",
              "      <td>0</td>\n",
              "    </tr>\n",
              "    <tr>\n",
              "      <th>Poland</th>\n",
              "      <td>3.17</td>\n",
              "      <td>112.50</td>\n",
              "      <td>7334.65</td>\n",
              "      <td>0</td>\n",
              "    </tr>\n",
              "    <tr>\n",
              "      <th>Portugal</th>\n",
              "      <td>3.00</td>\n",
              "      <td>136.63</td>\n",
              "      <td>33439.89</td>\n",
              "      <td>0</td>\n",
              "    </tr>\n",
              "    <tr>\n",
              "      <th>RSA</th>\n",
              "      <td>1.00</td>\n",
              "      <td>79.00</td>\n",
              "      <td>1002.31</td>\n",
              "      <td>0</td>\n",
              "    </tr>\n",
              "    <tr>\n",
              "      <th>Saudi Arabia</th>\n",
              "      <td>1.00</td>\n",
              "      <td>310.00</td>\n",
              "      <td>145.92</td>\n",
              "      <td>2</td>\n",
              "    </tr>\n",
              "    <tr>\n",
              "      <th>Singapore</th>\n",
              "      <td>7.00</td>\n",
              "      <td>73.00</td>\n",
              "      <td>21279.29</td>\n",
              "      <td>0</td>\n",
              "    </tr>\n",
              "    <tr>\n",
              "      <th>Spain</th>\n",
              "      <td>3.14</td>\n",
              "      <td>98.38</td>\n",
              "      <td>62839.71</td>\n",
              "      <td>0</td>\n",
              "    </tr>\n",
              "    <tr>\n",
              "      <th>Sweden</th>\n",
              "      <td>4.50</td>\n",
              "      <td>92.62</td>\n",
              "      <td>38378.33</td>\n",
              "      <td>0</td>\n",
              "    </tr>\n",
              "    <tr>\n",
              "      <th>Switzerland</th>\n",
              "      <td>2.62</td>\n",
              "      <td>132.33</td>\n",
              "      <td>57222.85</td>\n",
              "      <td>0</td>\n",
              "    </tr>\n",
              "    <tr>\n",
              "      <th>USA</th>\n",
              "      <td>1.25</td>\n",
              "      <td>98.25</td>\n",
              "      <td>3580.39</td>\n",
              "      <td>0</td>\n",
              "    </tr>\n",
              "    <tr>\n",
              "      <th>United Arab Emirates</th>\n",
              "      <td>1.50</td>\n",
              "      <td>210.00</td>\n",
              "      <td>1902.28</td>\n",
              "      <td>4</td>\n",
              "    </tr>\n",
              "    <tr>\n",
              "      <th>United Kingdom</th>\n",
              "      <td>4.25</td>\n",
              "      <td>113.72</td>\n",
              "      <td>7308391.55</td>\n",
              "      <td>3</td>\n",
              "    </tr>\n",
              "    <tr>\n",
              "      <th>Unspecified</th>\n",
              "      <td>2.00</td>\n",
              "      <td>153.00</td>\n",
              "      <td>2667.07</td>\n",
              "      <td>4</td>\n",
              "    </tr>\n",
              "  </tbody>\n",
              "</table>\n",
              "</div>"
            ],
            "text/plain": [
              "                      frequency  recency   monetary  cluster\n",
              "country                                                     \n",
              "Australia                  7.12   122.12  139107.89        0\n",
              "Austria                    1.67   167.33    9483.50        4\n",
              "Bahrain                    1.00   231.00     548.40        4\n",
              "Belgium                    4.17   118.96   40278.78        0\n",
              "Brazil                     1.00   260.00    1143.60        2\n",
              "Canada                     1.50   207.50    3666.38        4\n",
              "Channel Islands            2.89   161.78   20450.44        4\n",
              "Cyprus                     2.17   153.33   11775.98        4\n",
              "Czech Republic             2.00    85.00     826.74        0\n",
              "Denmark                    2.22    69.78   19774.40        0\n",
              "EIRE                      87.00    79.00  265545.90        1\n",
              "European Community         4.00   163.00    1300.25        4\n",
              "Finland                    3.42    78.75   22546.08        0\n",
              "France                     4.48   111.01  209024.05        0\n",
              "Germany                    4.86    99.12  228867.14        0\n",
              "Greece                     1.25   210.25    4760.52        4\n",
              "Iceland                    7.00    24.00    4310.00        0\n",
              "Israel                     1.67   131.00    7221.69        0\n",
              "Italy                      2.71   132.93   17483.24        0\n",
              "Japan                      2.50   150.12   37416.37        4\n",
              "Lebanon                    1.00   338.00    1693.88        2\n",
              "Lithuania                  4.00   388.00    1661.06        2\n",
              "Malta                      2.50    91.00    2725.59        0\n",
              "Netherlands               10.56   123.56  285446.34        0\n",
              "Norway                     3.60    87.00   36165.44        0\n",
              "Poland                     3.17   112.50    7334.65        0\n",
              "Portugal                   3.00   136.63   33439.89        0\n",
              "RSA                        1.00    79.00    1002.31        0\n",
              "Saudi Arabia               1.00   310.00     145.92        2\n",
              "Singapore                  7.00    73.00   21279.29        0\n",
              "Spain                      3.14    98.38   62839.71        0\n",
              "Sweden                     4.50    92.62   38378.33        0\n",
              "Switzerland                2.62   132.33   57222.85        0\n",
              "USA                        1.25    98.25    3580.39        0\n",
              "United Arab Emirates       1.50   210.00    1902.28        4\n",
              "United Kingdom             4.25   113.72 7308391.55        3\n",
              "Unspecified                2.00   153.00    2667.07        4"
            ]
          },
          "execution_count": 78,
          "metadata": {},
          "output_type": "execute_result"
        }
      ],
      "source": [
        "X"
      ]
    },
    {
      "attachments": {},
      "cell_type": "markdown",
      "metadata": {
        "id": "PjXwjnP56tK1"
      },
      "source": [
        "- Cluster 3: UK - outlier because it is the country where the company is\n",
        "- Cluster 1: EIRE - really close to UK and only country that have border to the UK <br>\n",
        "- Cluster 4: Countries with a good result\n",
        "<br><br>\n",
        "- Cluster 2: Countries with bad results that the company might consider stop exporting to  "
      ]
    },
    {
      "cell_type": "code",
      "execution_count": null,
      "metadata": {
        "colab": {
          "base_uri": "https://localhost:8080/",
          "height": 739
        },
        "id": "Y-gZnDbldijn",
        "outputId": "f83b02e3-79fa-4db7-fbef-afe9afa657f5"
      },
      "outputs": [
        {
          "ename": "SyntaxError",
          "evalue": "invalid syntax (272167519.py, line 1)",
          "output_type": "error",
          "traceback": [
            "\u001b[1;36m  Input \u001b[1;32mIn [79]\u001b[1;36m\u001b[0m\n\u001b[1;33m    X[(X['cluster'] == 1) | (X['cluster'] == 3) | (X['cluster'] == )]\u001b[0m\n\u001b[1;37m                                                                   ^\u001b[0m\n\u001b[1;31mSyntaxError\u001b[0m\u001b[1;31m:\u001b[0m invalid syntax\n"
          ]
        }
      ],
      "source": [
        "X[(X['cluster'] == 1) | (X['cluster'] == 3) | (X['cluster'] == )]"
      ]
    },
    {
      "attachments": {},
      "cell_type": "markdown",
      "metadata": {
        "id": "q0ufF-wb7vH3"
      },
      "source": [
        "These are the countries we should be selling."
      ]
    },
    {
      "cell_type": "code",
      "execution_count": null,
      "metadata": {
        "id": "1SSBkswKepAB"
      },
      "outputs": [],
      "source": []
    }
  ],
  "metadata": {
    "colab": {
      "authorship_tag": "ABX9TyOUm8Im+5U5w78cYI6wCqm3",
      "collapsed_sections": [
        "ftWnfCQ1ftTC"
      ],
      "include_colab_link": true,
      "name": "ClientSegmentation_2.ipynb",
      "provenance": []
    },
    "kernelspec": {
      "display_name": "Python 3",
      "name": "python3"
    },
    "language_info": {
      "codemirror_mode": {
        "name": "ipython",
        "version": 3
      },
      "file_extension": ".py",
      "mimetype": "text/x-python",
      "name": "python",
      "nbconvert_exporter": "python",
      "pygments_lexer": "ipython3",
      "version": "3.10.2"
    }
  },
  "nbformat": 4,
  "nbformat_minor": 0
}
