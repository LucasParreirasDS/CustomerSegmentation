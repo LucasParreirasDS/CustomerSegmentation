{
 "cells": [
  {
   "cell_type": "code",
   "execution_count": 2,
   "metadata": {},
   "outputs": [],
   "source": [
    "import pandas as pd \n",
    "import numpy as np\n",
    "import matplotlib.pyplot as plt\n",
    "import seaborn as sns \n",
    "\n",
    "from datetime import datetime as dt\n",
    "from datetime import timedelta as td"
   ]
  },
  {
   "cell_type": "code",
   "execution_count": 3,
   "metadata": {},
   "outputs": [],
   "source": [
    "df_rfm = pd.read_csv('../data/processed/DataRFM.csv')\n",
    "df_trans = pd.read_csv('../data/processed/preProcessed.csv')"
   ]
  },
  {
   "cell_type": "code",
   "execution_count": 4,
   "metadata": {},
   "outputs": [
    {
     "data": {
      "text/html": [
       "<div>\n",
       "<style scoped>\n",
       "    .dataframe tbody tr th:only-of-type {\n",
       "        vertical-align: middle;\n",
       "    }\n",
       "\n",
       "    .dataframe tbody tr th {\n",
       "        vertical-align: top;\n",
       "    }\n",
       "\n",
       "    .dataframe thead th {\n",
       "        text-align: right;\n",
       "    }\n",
       "</style>\n",
       "<table border=\"1\" class=\"dataframe\">\n",
       "  <thead>\n",
       "    <tr style=\"text-align: right;\">\n",
       "      <th></th>\n",
       "      <th>id_transaction</th>\n",
       "      <th>date</th>\n",
       "      <th>id_client</th>\n",
       "      <th>country</th>\n",
       "      <th>products</th>\n",
       "      <th>monetary</th>\n",
       "      <th>month</th>\n",
       "    </tr>\n",
       "  </thead>\n",
       "  <tbody>\n",
       "    <tr>\n",
       "      <th>0</th>\n",
       "      <td>548370</td>\n",
       "      <td>2021-03-30 16:14:00</td>\n",
       "      <td>15528</td>\n",
       "      <td>United Kingdom</td>\n",
       "      <td>123</td>\n",
       "      <td>229.33</td>\n",
       "      <td>3</td>\n",
       "    </tr>\n",
       "    <tr>\n",
       "      <th>1</th>\n",
       "      <td>575767</td>\n",
       "      <td>2021-11-11 11:11:00</td>\n",
       "      <td>17348</td>\n",
       "      <td>United Kingdom</td>\n",
       "      <td>163</td>\n",
       "      <td>209.73</td>\n",
       "      <td>11</td>\n",
       "    </tr>\n",
       "    <tr>\n",
       "      <th>2</th>\n",
       "      <td>549106</td>\n",
       "      <td>2021-04-06 12:08:00</td>\n",
       "      <td>17045</td>\n",
       "      <td>United Kingdom</td>\n",
       "      <td>1</td>\n",
       "      <td>39.95</td>\n",
       "      <td>4</td>\n",
       "    </tr>\n",
       "    <tr>\n",
       "      <th>3</th>\n",
       "      <td>573112</td>\n",
       "      <td>2021-10-27 15:33:00</td>\n",
       "      <td>16416</td>\n",
       "      <td>United Kingdom</td>\n",
       "      <td>357</td>\n",
       "      <td>344.83</td>\n",
       "      <td>10</td>\n",
       "    </tr>\n",
       "    <tr>\n",
       "      <th>4</th>\n",
       "      <td>576630</td>\n",
       "      <td>2021-11-16 08:38:00</td>\n",
       "      <td>13816</td>\n",
       "      <td>Germany</td>\n",
       "      <td>91</td>\n",
       "      <td>199.98</td>\n",
       "      <td>11</td>\n",
       "    </tr>\n",
       "  </tbody>\n",
       "</table>\n",
       "</div>"
      ],
      "text/plain": [
       "  id_transaction                date id_client         country  products  \\\n",
       "0         548370 2021-03-30 16:14:00     15528  United Kingdom       123   \n",
       "1         575767 2021-11-11 11:11:00     17348  United Kingdom       163   \n",
       "2         549106 2021-04-06 12:08:00     17045  United Kingdom         1   \n",
       "3         573112 2021-10-27 15:33:00     16416  United Kingdom       357   \n",
       "4         576630 2021-11-16 08:38:00     13816         Germany        91   \n",
       "\n",
       "   monetary  month  \n",
       "0    229.33      3  \n",
       "1    209.73     11  \n",
       "2     39.95      4  \n",
       "3    344.83     10  \n",
       "4    199.98     11  "
      ]
     },
     "execution_count": 4,
     "metadata": {},
     "output_type": "execute_result"
    }
   ],
   "source": [
    "df_trans['date'] = pd.to_datetime(df_trans['date'])\n",
    "\n",
    "months = df_trans['date'].apply(lambda x: x.month)\n",
    "df_trans['month'] = months\n",
    "\n",
    "df_trans.head()"
   ]
  },
  {
   "cell_type": "code",
   "execution_count": 5,
   "metadata": {},
   "outputs": [
    {
     "name": "stdout",
     "output_type": "stream",
     "text": [
      "<class 'pandas.core.frame.DataFrame'>\n",
      "RangeIndex: 22104 entries, 0 to 22103\n",
      "Data columns (total 7 columns):\n",
      " #   Column          Non-Null Count  Dtype         \n",
      "---  ------          --------------  -----         \n",
      " 0   id_transaction  22104 non-null  object        \n",
      " 1   date            22104 non-null  datetime64[ns]\n",
      " 2   id_client       22104 non-null  object        \n",
      " 3   country         22104 non-null  object        \n",
      " 4   products        22104 non-null  int64         \n",
      " 5   monetary        22104 non-null  float64       \n",
      " 6   month           22104 non-null  int64         \n",
      "dtypes: datetime64[ns](1), float64(1), int64(2), object(3)\n",
      "memory usage: 1.2+ MB\n"
     ]
    }
   ],
   "source": [
    "df_trans.info()"
   ]
  },
  {
   "cell_type": "code",
   "execution_count": 6,
   "metadata": {},
   "outputs": [
    {
     "data": {
      "text/html": [
       "<div>\n",
       "<style scoped>\n",
       "    .dataframe tbody tr th:only-of-type {\n",
       "        vertical-align: middle;\n",
       "    }\n",
       "\n",
       "    .dataframe tbody tr th {\n",
       "        vertical-align: top;\n",
       "    }\n",
       "\n",
       "    .dataframe thead th {\n",
       "        text-align: right;\n",
       "    }\n",
       "</style>\n",
       "<table border=\"1\" class=\"dataframe\">\n",
       "  <thead>\n",
       "    <tr style=\"text-align: right;\">\n",
       "      <th></th>\n",
       "      <th>id_transaction</th>\n",
       "      <th>date</th>\n",
       "      <th>id_client</th>\n",
       "      <th>country</th>\n",
       "      <th>products</th>\n",
       "      <th>monetary</th>\n",
       "      <th>month</th>\n",
       "    </tr>\n",
       "  </thead>\n",
       "  <tbody>\n",
       "    <tr>\n",
       "      <th>0</th>\n",
       "      <td>548370</td>\n",
       "      <td>2021-03-30 16:14:00</td>\n",
       "      <td>15528</td>\n",
       "      <td>United Kingdom</td>\n",
       "      <td>123</td>\n",
       "      <td>229.33</td>\n",
       "      <td>3</td>\n",
       "    </tr>\n",
       "    <tr>\n",
       "      <th>1</th>\n",
       "      <td>575767</td>\n",
       "      <td>2021-11-11 11:11:00</td>\n",
       "      <td>17348</td>\n",
       "      <td>United Kingdom</td>\n",
       "      <td>163</td>\n",
       "      <td>209.73</td>\n",
       "      <td>11</td>\n",
       "    </tr>\n",
       "    <tr>\n",
       "      <th>2</th>\n",
       "      <td>549106</td>\n",
       "      <td>2021-04-06 12:08:00</td>\n",
       "      <td>17045</td>\n",
       "      <td>United Kingdom</td>\n",
       "      <td>1</td>\n",
       "      <td>39.95</td>\n",
       "      <td>4</td>\n",
       "    </tr>\n",
       "    <tr>\n",
       "      <th>3</th>\n",
       "      <td>573112</td>\n",
       "      <td>2021-10-27 15:33:00</td>\n",
       "      <td>16416</td>\n",
       "      <td>United Kingdom</td>\n",
       "      <td>357</td>\n",
       "      <td>344.83</td>\n",
       "      <td>10</td>\n",
       "    </tr>\n",
       "    <tr>\n",
       "      <th>4</th>\n",
       "      <td>576630</td>\n",
       "      <td>2021-11-16 08:38:00</td>\n",
       "      <td>13816</td>\n",
       "      <td>Germany</td>\n",
       "      <td>91</td>\n",
       "      <td>199.98</td>\n",
       "      <td>11</td>\n",
       "    </tr>\n",
       "  </tbody>\n",
       "</table>\n",
       "</div>"
      ],
      "text/plain": [
       "  id_transaction                date id_client         country  products  \\\n",
       "0         548370 2021-03-30 16:14:00     15528  United Kingdom       123   \n",
       "1         575767 2021-11-11 11:11:00     17348  United Kingdom       163   \n",
       "2         549106 2021-04-06 12:08:00     17045  United Kingdom         1   \n",
       "3         573112 2021-10-27 15:33:00     16416  United Kingdom       357   \n",
       "4         576630 2021-11-16 08:38:00     13816         Germany        91   \n",
       "\n",
       "   monetary  month  \n",
       "0    229.33      3  \n",
       "1    209.73     11  \n",
       "2     39.95      4  \n",
       "3    344.83     10  \n",
       "4    199.98     11  "
      ]
     },
     "execution_count": 6,
     "metadata": {},
     "output_type": "execute_result"
    }
   ],
   "source": [
    "eda_trans = df_trans.copy()\n",
    "\n",
    "eda_trans.head()"
   ]
  },
  {
   "cell_type": "code",
   "execution_count": 7,
   "metadata": {},
   "outputs": [
    {
     "data": {
      "text/html": [
       "<div>\n",
       "<style scoped>\n",
       "    .dataframe tbody tr th:only-of-type {\n",
       "        vertical-align: middle;\n",
       "    }\n",
       "\n",
       "    .dataframe tbody tr th {\n",
       "        vertical-align: top;\n",
       "    }\n",
       "\n",
       "    .dataframe thead th {\n",
       "        text-align: right;\n",
       "    }\n",
       "</style>\n",
       "<table border=\"1\" class=\"dataframe\">\n",
       "  <thead>\n",
       "    <tr style=\"text-align: right;\">\n",
       "      <th></th>\n",
       "      <th>id_client</th>\n",
       "      <th>frequency</th>\n",
       "      <th>recency</th>\n",
       "      <th>monetary</th>\n",
       "      <th>segment</th>\n",
       "      <th>country</th>\n",
       "    </tr>\n",
       "  </thead>\n",
       "  <tbody>\n",
       "    <tr>\n",
       "      <th>0</th>\n",
       "      <td>Unknown</td>\n",
       "      <td>3538</td>\n",
       "      <td>21</td>\n",
       "      <td>1755276.64</td>\n",
       "      <td>Top</td>\n",
       "      <td>United Kingdom</td>\n",
       "    </tr>\n",
       "    <tr>\n",
       "      <th>1</th>\n",
       "      <td>14646</td>\n",
       "      <td>74</td>\n",
       "      <td>22</td>\n",
       "      <td>280206.02</td>\n",
       "      <td>Top</td>\n",
       "      <td>Netherlands</td>\n",
       "    </tr>\n",
       "    <tr>\n",
       "      <th>2</th>\n",
       "      <td>18102</td>\n",
       "      <td>60</td>\n",
       "      <td>21</td>\n",
       "      <td>259657.30</td>\n",
       "      <td>Top</td>\n",
       "      <td>United Kingdom</td>\n",
       "    </tr>\n",
       "    <tr>\n",
       "      <th>3</th>\n",
       "      <td>17450</td>\n",
       "      <td>46</td>\n",
       "      <td>29</td>\n",
       "      <td>194550.79</td>\n",
       "      <td>Top</td>\n",
       "      <td>United Kingdom</td>\n",
       "    </tr>\n",
       "    <tr>\n",
       "      <th>4</th>\n",
       "      <td>16446</td>\n",
       "      <td>2</td>\n",
       "      <td>21</td>\n",
       "      <td>168472.50</td>\n",
       "      <td>High value</td>\n",
       "      <td>United Kingdom</td>\n",
       "    </tr>\n",
       "  </tbody>\n",
       "</table>\n",
       "</div>"
      ],
      "text/plain": [
       "  id_client  frequency  recency    monetary     segment         country\n",
       "0   Unknown       3538       21  1755276.64         Top  United Kingdom\n",
       "1     14646         74       22   280206.02         Top     Netherlands\n",
       "2     18102         60       21   259657.30         Top  United Kingdom\n",
       "3     17450         46       29   194550.79         Top  United Kingdom\n",
       "4     16446          2       21   168472.50  High value  United Kingdom"
      ]
     },
     "execution_count": 7,
     "metadata": {},
     "output_type": "execute_result"
    }
   ],
   "source": [
    "eda_customer = df_rfm[['id_client', 'frequency', 'recency', 'monetary', 'segment']]\n",
    "\n",
    "eda_customer = eda_customer.merge(eda_trans[['id_client', 'country']],\n",
    "                                  how='left', \n",
    "                                  on='id_client'\n",
    "                                  ).drop_duplicates(keep='first', subset='id_client').reset_index(drop=True)\n",
    "\n",
    "eda_customer.head()"
   ]
  },
  {
   "cell_type": "code",
   "execution_count": 8,
   "metadata": {},
   "outputs": [
    {
     "name": "stdout",
     "output_type": "stream",
     "text": [
      "<class 'pandas.core.frame.DataFrame'>\n",
      "RangeIndex: 4340 entries, 0 to 4339\n",
      "Data columns (total 6 columns):\n",
      " #   Column     Non-Null Count  Dtype  \n",
      "---  ------     --------------  -----  \n",
      " 0   id_client  4340 non-null   object \n",
      " 1   frequency  4340 non-null   int64  \n",
      " 2   recency    4340 non-null   int64  \n",
      " 3   monetary   4340 non-null   float64\n",
      " 4   segment    4340 non-null   object \n",
      " 5   country    4340 non-null   object \n",
      "dtypes: float64(1), int64(2), object(3)\n",
      "memory usage: 203.6+ KB\n"
     ]
    }
   ],
   "source": [
    "eda_customer.info()"
   ]
  },
  {
   "cell_type": "code",
   "execution_count": 9,
   "metadata": {},
   "outputs": [
    {
     "data": {
      "image/png": "[encoded data removed]",
      "text/plain": [
       "<Figure size 1152x504 with 1 Axes>"
      ]
     },
     "metadata": {
      "needs_background": "light"
     },
     "output_type": "display_data"
    }
   ],
   "source": [
    "sns.set_style(\"dark\")\n",
    "\n",
    "df_plot = eda_trans.groupby('month')[['products', 'monetary']].sum()\n",
    "\n",
    "plt.figure(figsize=(16,7))\n",
    "ax = sns.barplot(data=df_plot, x=df_plot.index, y='monetary', color='darkgreen')\n",
    "\n",
    "'''plt.xlabel('Month', {'fontsize': 11})\n",
    "plt.ylabel('Monetary spent', {'fontsize': 11})\n",
    "plt.title('Total spent per month in 2021', {'fontsize': 15})\n",
    "plt.xticks(np.arange(0, 12), labels=['J', 'F', 'M', 'A', 'M', 'J', 'J', 'A', 'S', 'O', 'N', 'D'])\n",
    "plt.tick_params(axis='y',\n",
    "                left=False,\n",
    "                labelleft=False)\n",
    "\n",
    "plt.ticklabel_format(style='plain', axis='y')\n",
    "plt.grid(False)\n",
    "\n",
    "ax.spines['top'].set_visible(False)\n",
    "ax.spines['right'].set_visible(False)\n",
    "ax.spines['left'].set_visible(False)\n",
    "'''\n",
    "\n",
    "plt.show()"
   ]
  },
  {
   "cell_type": "code",
   "execution_count": 10,
   "metadata": {},
   "outputs": [],
   "source": [
    "db = eda_customer.groupby(['country', 'segment'])['segment'].count().unstack(level=1)\n",
    "db = db.fillna(0)\n",
    "db['total'] = db[['High value', 'Lost Customers', 'Low Value', 'Medium Value', 'Top']].sum(axis=1)\n",
    "db = db[(db['total'] > 5) & ((db['Top'] > 0)|(db['High value'] > 0))] \n",
    "\n",
    "\n",
    "data = []\n",
    "\n",
    "for col in db:\n",
    "  if col != 'total':\n",
    "    data.append(db[col] / db['total'] * 100)\n"
   ]
  },
  {
   "cell_type": "code",
   "execution_count": 11,
   "metadata": {},
   "outputs": [
    {
     "data": {
      "image/png": "[encoded data removed]",
      "text/plain": [
       "<Figure size 576x792 with 1 Axes>"
      ]
     },
     "metadata": {},
     "output_type": "display_data"
    }
   ],
   "source": [
    "data_plot = pd.DataFrame(data, index=['High Value', 'Lost Customers',\t'Low Value', 'Medium Value', 'Top'], columns=data[0].index).T\n",
    "data_plot = data_plot.sort_values(['Top', 'High Value'])\n",
    "\n",
    "labels = data_plot.index\n",
    "top = data_plot['Top']\n",
    "high = data_plot['High Value']\n",
    "medium = data_plot['Medium Value']\n",
    "low = data_plot['Low Value']\n",
    "lost = data_plot['Lost Customers']\n",
    "width=0.5\n",
    "\n",
    "\n",
    "sns.set_style('whitegrid')\n",
    "plt.figure(figsize=(8, 11))\n",
    "plt.barh(labels, top[labels], color='#324b4d', label='Top')\n",
    "plt.barh(labels, high[labels], color='#617c7e', left=top[labels], label='High Value')\n",
    "plt.barh(labels, medium[labels], color='#94b0b2', left=top[labels]+high[labels], label='Medium Value')\n",
    "plt.barh(labels, low[labels], color='#0c8787', left=top[labels]+high[labels]+medium[labels], label='Low Value')\n",
    "plt.title('Countries proportion of each segment', {'fontsize': 17})\n",
    "plt.legend()\n",
    "plt.grid(False)\n",
    "sns.despine(left=True)\n",
    "plt.tight_layout()"
   ]
  },
  {
   "cell_type": "markdown",
   "metadata": {},
   "source": [
    "Note that this is a chart of proportion, so every country needs fill up to 100%. The open space at the end of the bars represents lost customers (not shown to enhance clarity)"
   ]
  },
  {
   "cell_type": "code",
   "execution_count": 12,
   "metadata": {},
   "outputs": [
    {
     "name": "stdout",
     "output_type": "stream",
     "text": [
      "84.97% of all revenue come from UK, so let´s take it out for the next chart\n"
     ]
    }
   ],
   "source": [
    "print(f\"{(eda_customer.groupby('country')['monetary'].sum()['United Kingdom'] / eda_customer.groupby('country')['monetary'].sum().sum() * 100).round(2)}% of all revenue come from UK, so let´s take it out for the next chart\")"
   ]
  },
  {
   "cell_type": "code",
   "execution_count": 13,
   "metadata": {},
   "outputs": [
    {
     "data": {
      "text/html": [
       "<div>\n",
       "<style scoped>\n",
       "    .dataframe tbody tr th:only-of-type {\n",
       "        vertical-align: middle;\n",
       "    }\n",
       "\n",
       "    .dataframe tbody tr th {\n",
       "        vertical-align: top;\n",
       "    }\n",
       "\n",
       "    .dataframe thead th {\n",
       "        text-align: right;\n",
       "    }\n",
       "</style>\n",
       "<table border=\"1\" class=\"dataframe\">\n",
       "  <thead>\n",
       "    <tr style=\"text-align: right;\">\n",
       "      <th>segment</th>\n",
       "      <th>country</th>\n",
       "      <th>High value</th>\n",
       "      <th>Lost Customers</th>\n",
       "      <th>Low Value</th>\n",
       "      <th>Medium Value</th>\n",
       "      <th>Top</th>\n",
       "    </tr>\n",
       "  </thead>\n",
       "  <tbody>\n",
       "    <tr>\n",
       "      <th>0</th>\n",
       "      <td>Netherlands</td>\n",
       "      <td>0.00</td>\n",
       "      <td>1036.95</td>\n",
       "      <td>463.66</td>\n",
       "      <td>3739.71</td>\n",
       "      <td>280206.02</td>\n",
       "    </tr>\n",
       "    <tr>\n",
       "      <th>1</th>\n",
       "      <td>EIRE</td>\n",
       "      <td>0.00</td>\n",
       "      <td>0.00</td>\n",
       "      <td>0.00</td>\n",
       "      <td>4341.21</td>\n",
       "      <td>261204.69</td>\n",
       "    </tr>\n",
       "    <tr>\n",
       "      <th>2</th>\n",
       "      <td>Australia</td>\n",
       "      <td>2780.66</td>\n",
       "      <td>0.00</td>\n",
       "      <td>3342.65</td>\n",
       "      <td>1582.60</td>\n",
       "      <td>131401.98</td>\n",
       "    </tr>\n",
       "  </tbody>\n",
       "</table>\n",
       "</div>"
      ],
      "text/plain": [
       "segment      country  High value  Lost Customers  Low Value  Medium Value  \\\n",
       "0        Netherlands        0.00         1036.95     463.66       3739.71   \n",
       "1               EIRE        0.00            0.00       0.00       4341.21   \n",
       "2          Australia     2780.66            0.00    3342.65       1582.60   \n",
       "\n",
       "segment        Top  \n",
       "0        280206.02  \n",
       "1        261204.69  \n",
       "2        131401.98  "
      ]
     },
     "execution_count": 13,
     "metadata": {},
     "output_type": "execute_result"
    }
   ],
   "source": [
    "data_plot = eda_customer.groupby(['country', 'segment'])['monetary'].sum().unstack(level=1).fillna(0)\n",
    "\n",
    "data_plot = data_plot[(data_plot['Top'] > 0) | (data_plot['High value'] > 0) | (data_plot['Medium Value'] > 0)] \n",
    "data_plot.drop('United Kingdom', inplace=True)\n",
    "data_plot = data_plot.sort_values(['Top', 'High value'], ascending=False).reset_index()\n",
    "data_plot.head(3)"
   ]
  },
  {
   "cell_type": "code",
   "execution_count": 14,
   "metadata": {},
   "outputs": [
    {
     "data": {
      "text/html": [
       "<div>\n",
       "<style scoped>\n",
       "    .dataframe tbody tr th:only-of-type {\n",
       "        vertical-align: middle;\n",
       "    }\n",
       "\n",
       "    .dataframe tbody tr th {\n",
       "        vertical-align: top;\n",
       "    }\n",
       "\n",
       "    .dataframe thead th {\n",
       "        text-align: right;\n",
       "    }\n",
       "</style>\n",
       "<table border=\"1\" class=\"dataframe\">\n",
       "  <thead>\n",
       "    <tr style=\"text-align: right;\">\n",
       "      <th>segment</th>\n",
       "      <th>country</th>\n",
       "      <th>Total</th>\n",
       "    </tr>\n",
       "  </thead>\n",
       "  <tbody>\n",
       "    <tr>\n",
       "      <th>0</th>\n",
       "      <td>Netherlands</td>\n",
       "      <td>285446.34</td>\n",
       "    </tr>\n",
       "    <tr>\n",
       "      <th>1</th>\n",
       "      <td>EIRE</td>\n",
       "      <td>265545.90</td>\n",
       "    </tr>\n",
       "    <tr>\n",
       "      <th>4</th>\n",
       "      <td>Germany</td>\n",
       "      <td>228867.14</td>\n",
       "    </tr>\n",
       "    <tr>\n",
       "      <th>3</th>\n",
       "      <td>France</td>\n",
       "      <td>209024.05</td>\n",
       "    </tr>\n",
       "    <tr>\n",
       "      <th>2</th>\n",
       "      <td>Australia</td>\n",
       "      <td>139107.89</td>\n",
       "    </tr>\n",
       "    <tr>\n",
       "      <th>7</th>\n",
       "      <td>Spain</td>\n",
       "      <td>62839.71</td>\n",
       "    </tr>\n",
       "    <tr>\n",
       "      <th>14</th>\n",
       "      <td>Switzerland</td>\n",
       "      <td>57222.85</td>\n",
       "    </tr>\n",
       "    <tr>\n",
       "      <th>10</th>\n",
       "      <td>Belgium</td>\n",
       "      <td>40278.78</td>\n",
       "    </tr>\n",
       "    <tr>\n",
       "      <th>5</th>\n",
       "      <td>Sweden</td>\n",
       "      <td>38378.33</td>\n",
       "    </tr>\n",
       "    <tr>\n",
       "      <th>12</th>\n",
       "      <td>Japan</td>\n",
       "      <td>37416.37</td>\n",
       "    </tr>\n",
       "    <tr>\n",
       "      <th>8</th>\n",
       "      <td>Norway</td>\n",
       "      <td>36165.44</td>\n",
       "    </tr>\n",
       "    <tr>\n",
       "      <th>6</th>\n",
       "      <td>Portugal</td>\n",
       "      <td>33439.89</td>\n",
       "    </tr>\n",
       "    <tr>\n",
       "      <th>9</th>\n",
       "      <td>Finland</td>\n",
       "      <td>22546.08</td>\n",
       "    </tr>\n",
       "    <tr>\n",
       "      <th>13</th>\n",
       "      <td>Singapore</td>\n",
       "      <td>21279.29</td>\n",
       "    </tr>\n",
       "    <tr>\n",
       "      <th>15</th>\n",
       "      <td>Channel Islands</td>\n",
       "      <td>20450.44</td>\n",
       "    </tr>\n",
       "    <tr>\n",
       "      <th>19</th>\n",
       "      <td>Denmark</td>\n",
       "      <td>19774.40</td>\n",
       "    </tr>\n",
       "    <tr>\n",
       "      <th>17</th>\n",
       "      <td>Italy</td>\n",
       "      <td>17483.24</td>\n",
       "    </tr>\n",
       "    <tr>\n",
       "      <th>16</th>\n",
       "      <td>Cyprus</td>\n",
       "      <td>11775.98</td>\n",
       "    </tr>\n",
       "    <tr>\n",
       "      <th>20</th>\n",
       "      <td>Austria</td>\n",
       "      <td>9483.50</td>\n",
       "    </tr>\n",
       "    <tr>\n",
       "      <th>18</th>\n",
       "      <td>Poland</td>\n",
       "      <td>7334.65</td>\n",
       "    </tr>\n",
       "    <tr>\n",
       "      <th>23</th>\n",
       "      <td>Israel</td>\n",
       "      <td>7221.69</td>\n",
       "    </tr>\n",
       "    <tr>\n",
       "      <th>11</th>\n",
       "      <td>Iceland</td>\n",
       "      <td>4310.00</td>\n",
       "    </tr>\n",
       "    <tr>\n",
       "      <th>21</th>\n",
       "      <td>Canada</td>\n",
       "      <td>3666.38</td>\n",
       "    </tr>\n",
       "    <tr>\n",
       "      <th>26</th>\n",
       "      <td>USA</td>\n",
       "      <td>3580.39</td>\n",
       "    </tr>\n",
       "    <tr>\n",
       "      <th>25</th>\n",
       "      <td>Malta</td>\n",
       "      <td>2725.59</td>\n",
       "    </tr>\n",
       "    <tr>\n",
       "      <th>24</th>\n",
       "      <td>Lithuania</td>\n",
       "      <td>1661.06</td>\n",
       "    </tr>\n",
       "    <tr>\n",
       "      <th>22</th>\n",
       "      <td>European Community</td>\n",
       "      <td>1300.25</td>\n",
       "    </tr>\n",
       "  </tbody>\n",
       "</table>\n",
       "</div>"
      ],
      "text/plain": [
       "segment             country      Total\n",
       "0               Netherlands  285446.34\n",
       "1                      EIRE  265545.90\n",
       "4                   Germany  228867.14\n",
       "3                    France  209024.05\n",
       "2                 Australia  139107.89\n",
       "7                     Spain   62839.71\n",
       "14              Switzerland   57222.85\n",
       "10                  Belgium   40278.78\n",
       "5                    Sweden   38378.33\n",
       "12                    Japan   37416.37\n",
       "8                    Norway   36165.44\n",
       "6                  Portugal   33439.89\n",
       "9                   Finland   22546.08\n",
       "13                Singapore   21279.29\n",
       "15          Channel Islands   20450.44\n",
       "19                  Denmark   19774.40\n",
       "17                    Italy   17483.24\n",
       "16                   Cyprus   11775.98\n",
       "20                  Austria    9483.50\n",
       "18                   Poland    7334.65\n",
       "23                   Israel    7221.69\n",
       "11                  Iceland    4310.00\n",
       "21                   Canada    3666.38\n",
       "26                      USA    3580.39\n",
       "25                    Malta    2725.59\n",
       "24                Lithuania    1661.06\n",
       "22       European Community    1300.25"
      ]
     },
     "execution_count": 14,
     "metadata": {},
     "output_type": "execute_result"
    }
   ],
   "source": [
    "data_plot['Total'] = (data_plot['High value'] + data_plot['Low Value'] + data_plot['Medium Value'] + data_plot['Lost Customers'] + data_plot['Top'])\n",
    "data_plot = data_plot.sort_values('Total', ascending = False)\n",
    "data_plot[['country', 'Total']]\n"
   ]
  },
  {
   "cell_type": "code",
   "execution_count": 15,
   "metadata": {},
   "outputs": [
    {
     "data": {
      "text/plain": [
       "(27, 7)"
      ]
     },
     "execution_count": 15,
     "metadata": {},
     "output_type": "execute_result"
    }
   ],
   "source": [
    "data_plot.shape"
   ]
  },
  {
   "cell_type": "code",
   "execution_count": 19,
   "metadata": {},
   "outputs": [
    {
     "data": {
      "text/plain": [
       "<Figure size 432x288 with 0 Axes>"
      ]
     },
     "metadata": {},
     "output_type": "display_data"
    },
    {
     "data": {
      "image/png": "[encoded data removed]",
      "text/plain": [
       "<Figure size 1224x576 with 1 Axes>"
      ]
     },
     "metadata": {},
     "output_type": "display_data"
    }
   ],
   "source": [
    "plt.figure()\n",
    "data_plot.plot(x='country', y=['Total'], kind='bar', figsize=(17, 8), color=['#324b4d'], width=0.63)\n",
    "plt.title('Total spent per country by segment\\n', {'fontsize': 16})\n",
    "plt.xlabel('Country')\n",
    "plt.ylabel('Total Spent')\n",
    "plt.grid(False)\n",
    "plt.tight_layout()\n",
    "plt.show()"
   ]
  },
  {
   "cell_type": "code",
   "execution_count": 21,
   "metadata": {},
   "outputs": [
    {
     "data": {
      "text/plain": [
       "<Figure size 432x288 with 0 Axes>"
      ]
     },
     "metadata": {},
     "output_type": "display_data"
    },
    {
     "data": {
      "image/png": "[encoded data removed]",
      "text/plain": [
       "<Figure size 1224x576 with 1 Axes>"
      ]
     },
     "metadata": {},
     "output_type": "display_data"
    }
   ],
   "source": [
    "plt.figure()\n",
    "data_plot[:10].plot(x='country', y=['Total'], kind='bar', figsize=(17, 8), color=['#324b4d'], width=0.63)\n",
    "plt.title('Total spent per country by segment\\n', {'fontsize': 16})\n",
    "plt.xlabel('Country')\n",
    "plt.ylabel('Total Spent')\n",
    "plt.grid(False)\n",
    "plt.tight_layout()\n",
    "plt.show()"
   ]
  },
  {
   "cell_type": "code",
   "execution_count": null,
   "metadata": {},
   "outputs": [],
   "source": []
  }
 ],
 "metadata": {
  "kernelspec": {
   "display_name": "Python 3",
   "language": "python",
   "name": "python3"
  },
  "language_info": {
   "codemirror_mode": {
    "name": "ipython",
    "version": 3
   },
   "file_extension": ".py",
   "mimetype": "text/x-python",
   "name": "python",
   "nbconvert_exporter": "python",
   "pygments_lexer": "ipython3",
   "version": "3.10.2"
  },
  "orig_nbformat": 4
 },
 "nbformat": 4,
 "nbformat_minor": 2
}
